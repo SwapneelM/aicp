{
 "cells": [
  {
   "cell_type": "code",
   "execution_count": 10,
   "metadata": {},
   "outputs": [],
   "source": [
    "import numpy as np\n",
    "import matplotlib.pyplot as plt\n",
    "import matplotlib as mpl\n",
    "from scipy.stats import f"
   ]
  },
  {
   "cell_type": "markdown",
   "metadata": {},
   "source": [
    "**Setup**\n",
    "\n",
    "**Setup**\n",
    "\n",
    "*The F-Test is a statistical test for the hypothesis that two distributions have the same variance.*\n",
    "\n",
    "Let $X_1,...,X_n$ iid $\\sim \\mathcal{N}(\\mu_x, \\sigma_x^2)$ and  $Y_1,...,Y_n$ iid $\\sim \\mathcal{N}(\\mu_y, \\sigma_y^2)$, with X and Y independent.\n",
    "\n",
    "The null hypothesis is $H_0 : \\sigma_x^2 / sigma_y^2 = 1$, ie. both distributions have the same variance.\n",
    "\n",
    "The pivot is,\n",
    "\n",
    "$\n",
    "\\begin{align*}\n",
    "Z(X,Y) := \\frac{S_x^2}{S_y^2},\n",
    "\\end{align*}\n",
    "$\n",
    "\n",
    "where $S^2$ is the pooled unbiased sample variance, ie.\n",
    "\n",
    "$\n",
    "\\begin{align*}\n",
    "S_x^2 = \\frac{1}{n-1}\\sum_{i=1}^n(X_i - \\bar{X})^2,\\ \\ \\ S_y^2 = \\frac{1}{m-1}\\sum_{i=1}^m(Y_i - \\bar{Y})^2,\n",
    "\\end{align*}\n",
    "$\n",
    "\n",
    "where $n,m$ are the number of samples of $X$ and $Y$ respectively.\n",
    "\n",
    "*If $X,Y$ are normally distributed*, then $Z$ follows an F-distribution with $n-1$ over $m-1$ degrees of freedom. If we want to test deviations in both directions (ie. $\\frac{S_x^2}{S_y^2} < 1$ and $\\frac{S_x^2}{S_y^2} > 1$) the test is two tailed, and the p-value is (for a given pivot $\\bar{z}$),\n",
    "\n",
    "$\n",
    "\\mathbb{P}\\left(|Z|>\\bar{z}\\right) = 2*\\mathbb{P}\\left(Z>|\\bar{z}|\\right) = 2 * (1 - \\mathbb{P}\\left(Z \\leq|\\bar{z}|\\right))\n",
    "$\n",
    "\n",
    "To implement, I calculate the pivot and use cdf in `scipy.stats.f` to compute the p-value as described above."
   ]
  },
  {
   "cell_type": "code",
   "execution_count": 94,
   "metadata": {},
   "outputs": [
    {
     "name": "stdout",
     "output_type": "stream",
     "text": [
      "SETUP\n",
      "no. of samples: [100]\n",
      "no. of trials for each sample size: 100\n",
      "X ~ N(0.00, 0.50)\n",
      "Y ~ N(0.00, 1.00)\n",
      "In this case, the null hypothesis is False\n"
     ]
    }
   ],
   "source": [
    "N = np.array([100])#(10**(np.arange(0.5,5,0.5))).round().astype(int)\n",
    "trials = 100\n",
    "mu = 0\n",
    "sigma_x = 0.5\n",
    "sigma_y = 1\n",
    "alpha = 0.05\n",
    "\n",
    "print(\"SETUP\\nno. of samples: %s\" % N)\n",
    "print(\"no. of trials for each sample size: %d\" % trials)\n",
    "print(\"X ~ N(%0.2f, %0.2f)\" % (mu, sigma_x))\n",
    "print(\"Y ~ N(%0.2f, %0.2f)\" % (mu, sigma_y))\n",
    "print(\"In this case, the null hypothesis is %s\" % (sigma_x == sigma_y))"
   ]
  },
  {
   "cell_type": "code",
   "execution_count": null,
   "metadata": {},
   "outputs": [],
   "source": [
    "def ftest(X,Y,axis):\n",
    "    \"\"\"Return the pivot and p-value of the F-test for the given samples\"\"\"\n",
    "    S_x = np.var(X, axis, ddof=1)\n",
    "    S_y = np.var(Y, axis, ddof=1)\n",
    "    d1, d2 = len(X) - 1, len(Y) - 1\n",
    "    p_value = f.cdf(Z, d1, d2)\n",
    "    return Z, p_value"
   ]
  },
  {
   "cell_type": "code",
   "execution_count": 96,
   "metadata": {},
   "outputs": [
    {
     "ename": "ValueError",
     "evalue": "The truth value of an array with more than one element is ambiguous. Use a.any() or a.all()",
     "output_type": "error",
     "traceback": [
      "\u001b[0;31m---------------------------------------------------------------------------\u001b[0m",
      "\u001b[0;31mValueError\u001b[0m                                Traceback (most recent call last)",
      "\u001b[0;32m<ipython-input-96-ae17743d985b>\u001b[0m in \u001b[0;36m<module>\u001b[0;34m\u001b[0m\n\u001b[1;32m      6\u001b[0m     \u001b[0mX\u001b[0m \u001b[0;34m=\u001b[0m \u001b[0mnp\u001b[0m\u001b[0;34m.\u001b[0m\u001b[0mrandom\u001b[0m\u001b[0;34m.\u001b[0m\u001b[0mnormal\u001b[0m\u001b[0;34m(\u001b[0m\u001b[0mmu\u001b[0m\u001b[0;34m,\u001b[0m \u001b[0msigma_x\u001b[0m\u001b[0;34m,\u001b[0m\u001b[0msize\u001b[0m\u001b[0;34m=\u001b[0m\u001b[0;34m(\u001b[0m\u001b[0mtrials\u001b[0m\u001b[0;34m,\u001b[0m\u001b[0mn\u001b[0m\u001b[0;34m)\u001b[0m\u001b[0;34m)\u001b[0m\u001b[0;34m\u001b[0m\u001b[0;34m\u001b[0m\u001b[0m\n\u001b[1;32m      7\u001b[0m     \u001b[0mY\u001b[0m \u001b[0;34m=\u001b[0m \u001b[0mnp\u001b[0m\u001b[0;34m.\u001b[0m\u001b[0mrandom\u001b[0m\u001b[0;34m.\u001b[0m\u001b[0mnormal\u001b[0m\u001b[0;34m(\u001b[0m\u001b[0mmu\u001b[0m\u001b[0;34m,\u001b[0m \u001b[0msigma_y\u001b[0m\u001b[0;34m,\u001b[0m \u001b[0msize\u001b[0m\u001b[0;34m=\u001b[0m\u001b[0;34m(\u001b[0m\u001b[0mtrials\u001b[0m\u001b[0;34m,\u001b[0m\u001b[0mn\u001b[0m\u001b[0;34m)\u001b[0m\u001b[0;34m)\u001b[0m\u001b[0;34m\u001b[0m\u001b[0;34m\u001b[0m\u001b[0m\n\u001b[0;32m----> 8\u001b[0;31m     \u001b[0;34m(\u001b[0m\u001b[0m_\u001b[0m\u001b[0;34m,\u001b[0m \u001b[0mp_value\u001b[0m\u001b[0;34m)\u001b[0m \u001b[0;34m=\u001b[0m \u001b[0mftest\u001b[0m\u001b[0;34m(\u001b[0m\u001b[0mX\u001b[0m\u001b[0;34m,\u001b[0m \u001b[0mY\u001b[0m\u001b[0;34m,\u001b[0m \u001b[0maxis\u001b[0m\u001b[0;34m=\u001b[0m\u001b[0;36m0\u001b[0m\u001b[0;34m)\u001b[0m\u001b[0;34m\u001b[0m\u001b[0;34m\u001b[0m\u001b[0m\n\u001b[0m\u001b[1;32m      9\u001b[0m     \u001b[0mplt\u001b[0m\u001b[0;34m.\u001b[0m\u001b[0mplot\u001b[0m\u001b[0;34m(\u001b[0m\u001b[0mp_value\u001b[0m\u001b[0;34m,\u001b[0m \u001b[0;34m\"-s\"\u001b[0m\u001b[0;34m,\u001b[0m \u001b[0mlabel\u001b[0m\u001b[0;34m=\u001b[0m\u001b[0;34m\"%d samples\"\u001b[0m \u001b[0;34m%\u001b[0m \u001b[0mn\u001b[0m\u001b[0;34m)\u001b[0m\u001b[0;34m\u001b[0m\u001b[0;34m\u001b[0m\u001b[0m\n\u001b[1;32m     10\u001b[0m     \u001b[0mrejected\u001b[0m\u001b[0;34m[\u001b[0m\u001b[0mi\u001b[0m\u001b[0;34m]\u001b[0m \u001b[0;34m=\u001b[0m \u001b[0mnp\u001b[0m\u001b[0;34m.\u001b[0m\u001b[0msum\u001b[0m\u001b[0;34m(\u001b[0m\u001b[0;34m(\u001b[0m\u001b[0mp_value\u001b[0m \u001b[0;34m<=\u001b[0m \u001b[0malpha\u001b[0m\u001b[0;34m/\u001b[0m\u001b[0;36m2\u001b[0m\u001b[0;34m)\u001b[0m\u001b[0;34m.\u001b[0m\u001b[0mastype\u001b[0m\u001b[0;34m(\u001b[0m\u001b[0mint\u001b[0m\u001b[0;34m)\u001b[0m\u001b[0;34m)\u001b[0m \u001b[0;34m/\u001b[0m \u001b[0mtrials\u001b[0m\u001b[0;34m\u001b[0m\u001b[0;34m\u001b[0m\u001b[0m\n",
      "\u001b[0;32m<ipython-input-95-8c7fb89a2878>\u001b[0m in \u001b[0;36mftest\u001b[0;34m(X, Y, axis)\u001b[0m\n\u001b[1;32m      3\u001b[0m     \u001b[0mS_x\u001b[0m \u001b[0;34m=\u001b[0m \u001b[0mnp\u001b[0m\u001b[0;34m.\u001b[0m\u001b[0mvar\u001b[0m\u001b[0;34m(\u001b[0m\u001b[0mX\u001b[0m\u001b[0;34m,\u001b[0m \u001b[0maxis\u001b[0m\u001b[0;34m,\u001b[0m \u001b[0mddof\u001b[0m\u001b[0;34m=\u001b[0m\u001b[0;36m1\u001b[0m\u001b[0;34m)\u001b[0m\u001b[0;34m\u001b[0m\u001b[0;34m\u001b[0m\u001b[0m\n\u001b[1;32m      4\u001b[0m     \u001b[0mS_y\u001b[0m \u001b[0;34m=\u001b[0m \u001b[0mnp\u001b[0m\u001b[0;34m.\u001b[0m\u001b[0mvar\u001b[0m\u001b[0;34m(\u001b[0m\u001b[0mY\u001b[0m\u001b[0;34m,\u001b[0m \u001b[0maxis\u001b[0m\u001b[0;34m,\u001b[0m \u001b[0mddof\u001b[0m\u001b[0;34m=\u001b[0m\u001b[0;36m1\u001b[0m\u001b[0;34m)\u001b[0m\u001b[0;34m\u001b[0m\u001b[0;34m\u001b[0m\u001b[0m\n\u001b[0;32m----> 5\u001b[0;31m     \u001b[0mZ\u001b[0m \u001b[0;34m=\u001b[0m \u001b[0mS_x\u001b[0m \u001b[0;34m/\u001b[0m \u001b[0mS_y\u001b[0m \u001b[0;32mif\u001b[0m \u001b[0mS_x\u001b[0m \u001b[0;34m>\u001b[0m \u001b[0mS_y\u001b[0m \u001b[0;32melse\u001b[0m \u001b[0mS_y\u001b[0m\u001b[0;34m/\u001b[0m\u001b[0mS_x\u001b[0m\u001b[0;34m\u001b[0m\u001b[0;34m\u001b[0m\u001b[0m\n\u001b[0m\u001b[1;32m      6\u001b[0m     \u001b[0md1\u001b[0m\u001b[0;34m,\u001b[0m \u001b[0md2\u001b[0m \u001b[0;34m=\u001b[0m \u001b[0mlen\u001b[0m\u001b[0;34m(\u001b[0m\u001b[0mX\u001b[0m\u001b[0;34m)\u001b[0m \u001b[0;34m-\u001b[0m \u001b[0;36m1\u001b[0m\u001b[0;34m,\u001b[0m \u001b[0mlen\u001b[0m\u001b[0;34m(\u001b[0m\u001b[0mY\u001b[0m\u001b[0;34m)\u001b[0m \u001b[0;34m-\u001b[0m \u001b[0;36m1\u001b[0m\u001b[0;34m\u001b[0m\u001b[0;34m\u001b[0m\u001b[0m\n\u001b[1;32m      7\u001b[0m     \u001b[0mp_value\u001b[0m \u001b[0;34m=\u001b[0m \u001b[0mf\u001b[0m\u001b[0;34m.\u001b[0m\u001b[0mcdf\u001b[0m\u001b[0;34m(\u001b[0m\u001b[0mZ\u001b[0m\u001b[0;34m,\u001b[0m \u001b[0md1\u001b[0m\u001b[0;34m,\u001b[0m \u001b[0md2\u001b[0m\u001b[0;34m)\u001b[0m\u001b[0;34m\u001b[0m\u001b[0;34m\u001b[0m\u001b[0m\n",
      "\u001b[0;31mValueError\u001b[0m: The truth value of an array with more than one element is ambiguous. Use a.any() or a.all()"
     ]
    },
    {
     "data": {
      "text/plain": [
       "<Figure size 1080x504 with 0 Axes>"
      ]
     },
     "metadata": {},
     "output_type": "display_data"
    }
   ],
   "source": [
    "# Run tests and plot results\n",
    "plt.figure(figsize=(15,7))\n",
    "rejected = np.zeros(len(N))\n",
    "for i,n in enumerate(N):\n",
    "    np.random.seed(40)\n",
    "    X = np.random.normal(mu, sigma_x,size=(trials,n))\n",
    "    Y = np.random.normal(mu, sigma_y, size=(trials,n))\n",
    "    (_, p_value) = ftest(X, Y, axis=0)\n",
    "    plt.plot(p_value, \"-s\", label=\"%d samples\" % n)\n",
    "    rejected[i] = np.sum((p_value <= alpha/2).astype(int)) / trials\n",
    "plt.plot([0,trials], [alpha, alpha], '-r')\n",
    "plt.xlabel(\"trial\")\n",
    "plt.ylabel(\"p-value\")\n",
    "plt.legend()\n",
    "\n",
    "fig = plt.figure(figsize=(15,7))\n",
    "plt.plot(rejected, '-o')\n",
    "plot_meaning = \"Statistical power\" if sigma_x != sigma_y else \"Type 1 error rate\"\n",
    "plt.title(\"Percentage of rejections for %d trials at level %0.4f (%s)\" % (trials, alpha, plot_meaning))\n",
    "ax = plt.gca()\n",
    "ax.set_xticklabels(N)\n",
    "plt.axis([0, len(N), 0, 1])\n",
    "plt.xlabel(\"no. samples\")\n",
    "plt.ylabel(\"rejection %\")"
   ]
  },
  {
   "cell_type": "code",
   "execution_count": 88,
   "metadata": {},
   "outputs": [],
   "source": [
    "    axis=1\n",
    "    S_x = np.var(X, axis, ddof=1)\n",
    "    S_y = np.var(Y, axis, ddof=1)\n",
    "    Z = S_x / S_y\n",
    "    d1, d2 = len(X) - 1, len(Y) - 1\n",
    "    p_value = 2*(1 - f.cdf(abs(Z), d1, d2))"
   ]
  },
  {
   "cell_type": "code",
   "execution_count": 93,
   "metadata": {},
   "outputs": [
    {
     "ename": "SyntaxError",
     "evalue": "unexpected EOF while parsing (<ipython-input-93-8e20f186c693>, line 1)",
     "output_type": "error",
     "traceback": [
      "\u001b[0;36m  File \u001b[0;32m\"<ipython-input-93-8e20f186c693>\"\u001b[0;36m, line \u001b[0;32m1\u001b[0m\n\u001b[0;31m    f.cdf(1-abs(Z)\u001b[0m\n\u001b[0m                  ^\u001b[0m\n\u001b[0;31mSyntaxError\u001b[0m\u001b[0;31m:\u001b[0m unexpected EOF while parsing\n"
     ]
    }
   ],
   "source": [
    "f.cdf(1-abs(Z)"
   ]
  },
  {
   "cell_type": "code",
   "execution_count": 91,
   "metadata": {},
   "outputs": [
    {
     "data": {
      "text/plain": [
       "array([1.99999975, 2.        , 2.        , 2.        , 2.        ,\n",
       "       2.        , 1.99999923, 2.        , 2.        , 2.        ,\n",
       "       2.        , 1.99999998, 2.        , 2.        , 2.        ,\n",
       "       2.        , 2.        , 2.        , 2.        , 2.        ,\n",
       "       2.        , 2.        , 2.        , 2.        , 2.        ,\n",
       "       1.99999999, 1.99999999, 2.        , 1.99999999, 2.        ,\n",
       "       2.        , 2.        , 2.        , 2.        , 2.        ,\n",
       "       2.        , 2.        , 2.        , 1.99999997, 2.        ,\n",
       "       2.        , 2.        , 2.        , 1.99999999, 2.        ,\n",
       "       2.        , 2.        , 2.        , 1.99999999, 2.        ,\n",
       "       2.        , 2.        , 2.        , 1.99999994, 2.        ,\n",
       "       2.        , 2.        , 2.        , 2.        , 1.99999999,\n",
       "       2.        , 1.99999999, 2.        , 2.        , 2.        ,\n",
       "       2.        , 2.        , 2.        , 2.        , 2.        ,\n",
       "       1.99999999, 2.        , 2.        , 2.        , 2.        ,\n",
       "       2.        , 2.        , 2.        , 2.        , 2.        ,\n",
       "       2.        , 1.99999982, 2.        , 2.        , 2.        ,\n",
       "       2.        , 2.        , 2.        , 2.        , 2.        ,\n",
       "       2.        , 2.        , 2.        , 2.        , 2.        ,\n",
       "       2.        , 2.        , 1.99999121, 2.        , 1.99999997])"
      ]
     },
     "execution_count": 91,
     "metadata": {},
     "output_type": "execute_result"
    }
   ],
   "source": [
    "p_value"
   ]
  },
  {
   "cell_type": "code",
   "execution_count": null,
   "metadata": {},
   "outputs": [],
   "source": []
  },
  {
   "cell_type": "code",
   "execution_count": null,
   "metadata": {},
   "outputs": [],
   "source": []
  }
 ],
 "metadata": {
  "kernelspec": {
   "display_name": "Python 3",
   "language": "python",
   "name": "python3"
  },
  "language_info": {
   "codemirror_mode": {
    "name": "ipython",
    "version": 3
   },
   "file_extension": ".py",
   "mimetype": "text/x-python",
   "name": "python",
   "nbconvert_exporter": "python",
   "pygments_lexer": "ipython3",
   "version": "3.7.3"
  }
 },
 "nbformat": 4,
 "nbformat_minor": 2
}
