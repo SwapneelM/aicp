{
 "cells": [
  {
   "cell_type": "code",
   "execution_count": 1,
   "metadata": {},
   "outputs": [],
   "source": [
    "import numpy as np\n",
    "import matplotlib\n",
    "import matplotlib.pyplot as plt\n",
    "from matplotlib import gridspec\n",
    "import scipy\n",
    "from src import utils, evaluation\n",
    "import copy\n",
    "import pickle\n",
    "import scipy.stats"
   ]
  },
  {
   "cell_type": "code",
   "execution_count": 2,
   "metadata": {},
   "outputs": [],
   "source": [
    "# Set tex formatting for plots\n",
    "from matplotlib import rc\n",
    "rc('font',**{'family':'serif','sans-serif':['Computer Modern Roman']})\n",
    "rc('text', usetex=True)\n",
    "#plt.rcParams[\"font.family\"] = \"serif\"\n",
    "#plt.rcParams[\"font.serif\"] = [\"Computer Modern Roman\"]"
   ]
  },
  {
   "cell_type": "code",
   "execution_count": 3,
   "metadata": {},
   "outputs": [],
   "source": [
    "# Set legend size\n",
    "from matplotlib.font_manager import FontProperties\n",
    "fontP = FontProperties()\n",
    "fontP.set_size('medium')"
   ]
  },
  {
   "cell_type": "markdown",
   "metadata": {},
   "source": [
    "### Auxiliary functions, colors"
   ]
  },
  {
   "cell_type": "code",
   "execution_count": 4,
   "metadata": {},
   "outputs": [],
   "source": [
    "def jaccard_distance(A,B,p=None):\n",
    "    A = set(A) if type(A) is not set else A\n",
    "    B = set(B) if type(B) is not set else B\n",
    "    return len(A & B) / len(A | B)"
   ]
  },
  {
   "cell_type": "code",
   "execution_count": 5,
   "metadata": {},
   "outputs": [],
   "source": [
    "def hamming_distance(A,B,p):\n",
    "    a = np.zeros(p)\n",
    "    b = np.zeros(p)\n",
    "    a[list(A)] = 1\n",
    "    b[list(B)] = 1\n",
    "    return scipy.spatial.distance.hamming(a, b)"
   ]
  },
  {
   "cell_type": "code",
   "execution_count": 6,
   "metadata": {},
   "outputs": [],
   "source": [
    "def compute_trajectories_abcd(abcd_results, metric=jaccard_distance, estimate=\"max\"):\n",
    "    Trajectories = []\n",
    "    Type1Errors = []\n",
    "    for graph in abcd_results:\n",
    "        _id, truth, _mec_size, runs = graph\n",
    "        for posteriors in runs:\n",
    "            # Trajectory of each run\n",
    "            trajectory = []\n",
    "            error_trajectory = []\n",
    "            for (Parents, probs) in posteriors:\n",
    "                distances = np.array(list(map(lambda parents: metric(truth, parents), Parents)))\n",
    "                if estimate == \"weighted\":\n",
    "                    weighted_metric = distances @ probs\n",
    "                elif estimate == \"max\":\n",
    "                    weighted_metric = distances[np.argmax(probs)]\n",
    "                trajectory.append(weighted_metric)\n",
    "                type1error = not set.issubset(set(Parents[np.argmax(probs)]), set(truth))\n",
    "                error_trajectory.append(type1error)\n",
    "            Type1Errors.append(error_trajectory)\n",
    "            Trajectories.append(trajectory)\n",
    "    return np.array(Trajectories), np.array(Type1Errors)"
   ]
  },
  {
   "cell_type": "code",
   "execution_count": 7,
   "metadata": {},
   "outputs": [],
   "source": [
    "def compute_entropies(abcd_results):\n",
    "    Trajectories = []\n",
    "    for graph in abcd_results:\n",
    "        _id, _truth, _mec_size, runs = graph\n",
    "        for posteriors in runs:\n",
    "            # Entropy reduction for each run\n",
    "            trajectory = []\n",
    "            for (_Parents, probs) in posteriors:\n",
    "                entropy = scipy.stats.entropy(probs)\n",
    "                trajectory.append(entropy)\n",
    "            Trajectories.append(trajectory)\n",
    "    return np.array(Trajectories)"
   ]
  },
  {
   "cell_type": "code",
   "execution_count": 8,
   "metadata": {},
   "outputs": [],
   "source": [
    "def mec_sizes(results):\n",
    "    return list(map(lambda result: result[0], results))"
   ]
  },
  {
   "cell_type": "code",
   "execution_count": 9,
   "metadata": {},
   "outputs": [],
   "source": [
    "def compute_trajectories_aicp(results, cases, max_iter, metric=jaccard_distance):\n",
    "    runs = len(results[0])\n",
    "    N = len(results[0][0])\n",
    "    P = len(results)\n",
    "\n",
    "    no_ints = np.zeros((len(results), runs, N))\n",
    "    all_trajectories = {}\n",
    "    all_type1_errors = {}\n",
    "    names = []\n",
    "    for k, policy_runs in enumerate(results):\n",
    "        name = policy_runs[0][0].policy\n",
    "        print(\"Processing results for %s policy\" % name, end=\"\")\n",
    "        names.append(name)\n",
    "        trajectories = np.ones((N*runs, max_iter+1))\n",
    "        type1_errors = np.zeros((N*runs, max_iter+1))\n",
    "        for i,run_results in enumerate(policy_runs):\n",
    "            no_ints[k, i,:] = list(map(lambda result: len(result.interventions()), run_results))\n",
    "            for j, result in enumerate(run_results):\n",
    "                estimates = list(map(lambda step: step[0], result.history[0::])) + [result.estimate]                \n",
    "                trajectory = list(map(lambda estimate: metric(cases[j].truth, estimate, cases[j].sem.p), estimates))\n",
    "                type1_error = list(map(lambda estimate: not set.issubset(estimate, cases[j].truth), estimates))\n",
    "                trajectories[i*N+j,0:len(trajectory)] = trajectory\n",
    "                type1_errors[i*N+j,0:len(type1_error)] = type1_error\n",
    "        all_trajectories[name] = trajectories\n",
    "        all_type1_errors[name] = type1_errors\n",
    "        print(\" done\")\n",
    "    return all_trajectories, all_type1_errors, N, P, runs, names, no_ints"
   ]
  },
  {
   "cell_type": "code",
   "execution_count": 10,
   "metadata": {},
   "outputs": [],
   "source": [
    "# Helper functions for processing AICP results\n",
    "def load_experiments(filename):\n",
    "    f = open(filename, \"rb\")\n",
    "    results = pickle.load(f)\n",
    "    return results[0], results[1::]\n",
    "\n",
    "def merge_runs(old, new, min_merge=False):\n",
    "    if len(old) == len(new) or (len(old) < len(new) and min_merge):\n",
    "        for i in range(len(old)):\n",
    "            old[i] += new[i].copy()\n",
    "    else:\n",
    "        raise Exception(\"Cannot merge\")\n",
    "    return old\n",
    "\n",
    "# Main function\n",
    "def load_results(filenames, alg, same_graphs=False):\n",
    "    # Load results for ABCD\n",
    "    if alg == \"abcd\":\n",
    "        results = []\n",
    "        processed = []\n",
    "        for filename in filenames:\n",
    "            results += pickle.load(open(filename, \"rb\"))\n",
    "        G = int(len(results) / len(filenames)) if same_graphs else len(results)\n",
    "        # Turn posteriors into a list of runs\n",
    "        for i in range(G):\n",
    "            (mec0, truth0, target0, posteriors0) = results[i]\n",
    "            runs = [posteriors0]\n",
    "            # If filenames correspond to different runs, merge results\n",
    "            if same_graphs:\n",
    "                for j in range(1,len(filenames)):\n",
    "                    (mec, truth, target, posteriors) = results[i+j*G]                    \n",
    "                    assert mec == mec0 and truth0 == truth and target0 == target\n",
    "                    runs.append(posteriors)\n",
    "            processed += [(mec0, truth0, target0, runs)]\n",
    "        print(\"\\nLoaded a total of %d graphs with %d runs\" % (G, len(runs)))\n",
    "        return processed\n",
    "    # Load results for AICP\n",
    "    elif alg == \"aicp\":\n",
    "        cases, results = load_experiments(filenames[0])\n",
    "        for filename in filenames[1::]:\n",
    "            print(\"Loading %s\" % filename)\n",
    "            new_cases, new_results = load_experiments(filename)\n",
    "            cases += new_cases\n",
    "            for k in range(len(results)):\n",
    "                results[k] = merge_runs(results[k], new_results[k])\n",
    "        print(\"\\nLoaded a total of %d graphs with %d runs each\" % (len(results[0][0]), len(results[0])))\n",
    "    return cases, results"
   ]
  },
  {
   "cell_type": "code",
   "execution_count": 11,
   "metadata": {},
   "outputs": [
    {
     "data": {
      "text/plain": [
       "<matplotlib.collections.PathCollection at 0x7f5c0e81d4e0>"
      ]
     },
     "execution_count": 11,
     "metadata": {},
     "output_type": "execute_result"
    },
    {
     "data": {
      "image/png": "[encoded data removed]",
      "text/plain": [
       "<Figure size 432x288 with 1 Axes>"
      ]
     },
     "metadata": {
      "needs_background": "light"
     },
     "output_type": "display_data"
    }
   ],
   "source": [
    "# Colors\n",
    "def to_rgb(H, b=1, a=1):\n",
    "    RGBa = []\n",
    "    for h in H:\n",
    "        h = h.lstrip(\"#\")\n",
    "        RGBa.append(tuple(int(h[i:i+2], 16) / 256 * b for i in (0, 2, 4)) + (a,))\n",
    "    return np.array(RGBa)\n",
    "\n",
    "cmap = matplotlib.cm.get_cmap('tab20')\n",
    "base = [\"#ff4365\", \"#ffdd43\", \"#59ff43\", \"#43ffdd\", \"#4365ff\", \"#e943ff\", \"#601e9e\", \"#6a6a6a\"]#np.array([cmap(i) for i in range(2,20)])\n",
    "plt.scatter(np.arange(len(base)), np.ones(len(base)), c = base)\n",
    "#base = [base[i] for i in [0,1,3]]\n",
    "colors = to_rgb(base)\n",
    "colorsa = to_rgb(base, a=0.5)\n",
    "colorsb = to_rgb(base, b=0.7)\n",
    "plt.scatter(np.arange(len(colors)), np.zeros(len(colors)), c = colors)\n",
    "plt.scatter(np.arange(len(colors)), np.ones(len(colors))*0.5, c = colorsa)\n",
    "plt.scatter(np.arange(len(colors)), np.ones(len(colors))*-0.5, c = colorsb)"
   ]
  },
  {
   "cell_type": "markdown",
   "metadata": {},
   "source": [
    "### Load and process data"
   ]
  },
  {
   "cell_type": "markdown",
   "metadata": {},
   "source": [
    "#### Load ABCD results"
   ]
  },
  {
   "cell_type": "code",
   "execution_count": 12,
   "metadata": {},
   "outputs": [],
   "source": [
    "filenames_abcd_1000 = [\n",
    "    \"experiments/pp_1586412657_n_samples:500_n_batches:50_max_interventions:1_strategy:entropy_intervention_strength:2.0_starting_samples:1000_target:0_intervention_type:gauss_target_allowed:True.pickle\"\n",
    "    ,\"experiments/pp_1587010658_n_samples:500_n_batches:50_max_interventions:1_strategy:entropy_intervention_strength:2.0_starting_samples:1000_target:0_intervention_type:gauss_target_allowed:True.pickle\"\n",
    "    ,\"experiments/pp_1587010821_n_samples:500_n_batches:50_max_interventions:1_strategy:entropy_intervention_strength:2.0_starting_samples:1000_target:0_intervention_type:gauss_target_allowed:True.pickle\"\n",
    "    ,\"experiments/pp_1586953212_n_samples:500_n_batches:50_max_interventions:1_strategy:entropy_intervention_strength:2.0_starting_samples:1000_target:0_intervention_type:gauss_target_allowed:True.pickle\"\n",
    "    ,\"experiments/pp_1586845410_n_samples:500_n_batches:50_max_interventions:1_strategy:entropy_intervention_strength:2.0_starting_samples:1000_target:0_intervention_type:gauss_target_allowed:True.pickle\"\n",
    "    ]\n",
    "\n",
    "filenames_abcd_100 = [\n",
    "    \"experiments/pp_1586332067_n_samples:500_n_batches:50_max_interventions:1_strategy:entropy_intervention_strength:2.0_starting_samples:100_target:0_intervention_type:gauss_target_allowed:True.pickle\"\n",
    "    ,\"experiments/pp_1586949064_n_samples:500_n_batches:50_max_interventions:1_strategy:entropy_intervention_strength:2.0_starting_samples:100_target:0_intervention_type:gauss_target_allowed:True.pickle\"\n",
    "    ,\"experiments/pp_1586949311_n_samples:500_n_batches:50_max_interventions:1_strategy:entropy_intervention_strength:2.0_starting_samples:100_target:0_intervention_type:gauss_target_allowed:True.pickle\"\n",
    "    ,\"experiments/pp_1587006444_n_samples:500_n_batches:50_max_interventions:1_strategy:entropy_intervention_strength:2.0_starting_samples:100_target:0_intervention_type:gauss_target_allowed:True.pickle\"\n",
    "    ,\"experiments/pp_1587008529_n_samples:500_n_batches:50_max_interventions:1_strategy:entropy_intervention_strength:2.0_starting_samples:100_target:0_intervention_type:gauss_target_allowed:True.pickle\"\n",
    "    ]\n",
    "\n",
    "filenames_abcd_50 = [\n",
    "    \"experiments/pp_1586357687_n_samples:500_n_batches:50_max_interventions:1_strategy:entropy_intervention_strength:2.0_starting_samples:50_target:0_intervention_type:gauss_target_allowed:True.pickle\"\n",
    "    ,\"experiments/pp_1586846548_n_samples:500_n_batches:50_max_interventions:1_strategy:entropy_intervention_strength:2.0_starting_samples:50_target:0_intervention_type:gauss_target_allowed:True.pickle\"\n",
    "    ,\"experiments/pp_1586849797_n_samples:500_n_batches:50_max_interventions:1_strategy:entropy_intervention_strength:2.0_starting_samples:50_target:0_intervention_type:gauss_target_allowed:True.pickle\"\n",
    "    ,\"experiments/pp_1586902276_n_samples:500_n_batches:50_max_interventions:1_strategy:entropy_intervention_strength:2.0_starting_samples:50_target:0_intervention_type:gauss_target_allowed:True.pickle\"\n",
    "    ,\"experiments/pp_1587005942_n_samples:500_n_batches:50_max_interventions:1_strategy:entropy_intervention_strength:2.0_starting_samples:50_target:0_intervention_type:gauss_target_allowed:True.pickle\"\n",
    "]"
   ]
  },
  {
   "cell_type": "code",
   "execution_count": 13,
   "metadata": {},
   "outputs": [
    {
     "name": "stdout",
     "output_type": "stream",
     "text": [
      "\n",
      "Loaded a total of 100 graphs with 5 runs\n",
      "\n",
      "Loaded a total of 100 graphs with 5 runs\n",
      "\n",
      "Loaded a total of 100 graphs with 5 runs\n"
     ]
    }
   ],
   "source": [
    "results_abcd_1000 = load_results(filenames_abcd_1000, \"abcd\", True)\n",
    "Trajectories_abcd_1000, Type1Errors_abcd_1000 = compute_trajectories_abcd(results_abcd_1000, estimate=\"weighted\")\n",
    "Entropies_abcd_1000 = compute_entropies(results_abcd_1000)\n",
    "mec_sizes1000 = mec_sizes(results_abcd_1000)\n",
    "\n",
    "results_abcd_100 = load_results(filenames_abcd_100, \"abcd\", True)\n",
    "Trajectories_abcd_100, Type1Errors_abcd_100 = compute_trajectories_abcd(results_abcd_100, estimate=\"weighted\")\n",
    "Entropies_abcd_100 = compute_entropies(results_abcd_100)\n",
    "\n",
    "results_abcd_50 = load_results(filenames_abcd_50, \"abcd\", True)\n",
    "Trajectories_abcd_50, Type1Errors_abcd_50 = compute_trajectories_abcd(results_abcd_50, estimate=\"weighted\")\n",
    "Entropies_abcd_50 = compute_entropies(results_abcd_50)"
   ]
  },
  {
   "cell_type": "code",
   "execution_count": 14,
   "metadata": {},
   "outputs": [
    {
     "data": {
      "image/png": "[encoded data removed]",
      "text/plain": [
       "<Figure size 180x180 with 1 Axes>"
      ]
     },
     "metadata": {
      "needs_background": "light"
     },
     "output_type": "display_data"
    }
   ],
   "source": [
    "plt.figure(figsize=(2.5, 2.5))\n",
    "mec_sizes1000\n",
    "plt.hist(mec_sizes1000, np.arange(100), rwidth=1, align='mid', color=\"#BABABA\")#colorsb[2])\n",
    "plt.xlabel(\"Size of the observational MEC\")\n",
    "plt.ylabel(\"Number of graphs\")\n",
    "plt.savefig(\"figures/mec_sizes.pdf\", bbox_inches='tight')"
   ]
  },
  {
   "cell_type": "markdown",
   "metadata": {},
   "source": [
    "#### Load A-ICP results"
   ]
  },
  {
   "cell_type": "code",
   "execution_count": 15,
   "metadata": {},
   "outputs": [],
   "source": [
    "filenames_aicp_50 = [\"experiments/results_1587155238_G:4_runs:5_i_mean:10_i_var:1_finite:True_max_iter:50_n:10_n_obs:50_alpha:0.0002_tag:apr17_load_dataset:dataset_3_abcd:True.pickle\"]\n",
    "filenames_aicp_100 = [\"experiments/results_1587155125_G:4_runs:5_i_mean:10_i_var:1_finite:True_max_iter:50_n:10_n_obs:100_alpha:0.0002_tag:apr17_load_dataset:dataset_3_abcd:True.pickle\"]\n",
    "filenames_aicp_1000 = [\"experiments/results_1587225751_G:4_runs:5_i_mean:10_i_var:1_finite:True_max_iter:50_n:10_n_obs:1000_alpha:0.0002_tag:apr17_load_dataset:dataset_3_abcd:True.pickle\"]"
   ]
  },
  {
   "cell_type": "code",
   "execution_count": 16,
   "metadata": {},
   "outputs": [
    {
     "ename": "ModuleNotFoundError",
     "evalue": "No module named 'src.sampling'",
     "output_type": "error",
     "traceback": [
      "\u001b[0;31m---------------------------------------------------------------------------\u001b[0m",
      "\u001b[0;31mModuleNotFoundError\u001b[0m                       Traceback (most recent call last)",
      "\u001b[0;32m<ipython-input-16-eb34d9e5111c>\u001b[0m in \u001b[0;36m<module>\u001b[0;34m\u001b[0m\n\u001b[0;32m----> 1\u001b[0;31m \u001b[0mcases\u001b[0m\u001b[0;34m,\u001b[0m \u001b[0mresults_aicp_1000\u001b[0m \u001b[0;34m=\u001b[0m \u001b[0mload_results\u001b[0m\u001b[0;34m(\u001b[0m\u001b[0mfilenames_aicp_1000\u001b[0m\u001b[0;34m,\u001b[0m \u001b[0;34m\"aicp\"\u001b[0m\u001b[0;34m)\u001b[0m\u001b[0;34m\u001b[0m\u001b[0;34m\u001b[0m\u001b[0m\n\u001b[0m\u001b[1;32m      2\u001b[0m \u001b[0mTrajectories_aicp_1000\u001b[0m\u001b[0;34m,\u001b[0m \u001b[0mType1Error_aicp_1000\u001b[0m\u001b[0;34m,\u001b[0m \u001b[0m_\u001b[0m\u001b[0;34m,\u001b[0m \u001b[0m_\u001b[0m\u001b[0;34m,\u001b[0m \u001b[0m_\u001b[0m\u001b[0;34m,\u001b[0m \u001b[0m_\u001b[0m\u001b[0;34m,\u001b[0m \u001b[0m_\u001b[0m \u001b[0;34m=\u001b[0m \u001b[0mcompute_trajectories_aicp\u001b[0m\u001b[0;34m(\u001b[0m\u001b[0mresults_aicp_1000\u001b[0m\u001b[0;34m,\u001b[0m \u001b[0mcases\u001b[0m\u001b[0;34m,\u001b[0m \u001b[0;36m50\u001b[0m\u001b[0;34m)\u001b[0m\u001b[0;34m\u001b[0m\u001b[0;34m\u001b[0m\u001b[0m\n\u001b[1;32m      3\u001b[0m \u001b[0;34m\u001b[0m\u001b[0m\n\u001b[1;32m      4\u001b[0m \u001b[0mcases\u001b[0m\u001b[0;34m,\u001b[0m \u001b[0mresults_aicp_100\u001b[0m \u001b[0;34m=\u001b[0m \u001b[0mload_results\u001b[0m\u001b[0;34m(\u001b[0m\u001b[0mfilenames_aicp_100\u001b[0m\u001b[0;34m,\u001b[0m \u001b[0;34m\"aicp\"\u001b[0m\u001b[0;34m)\u001b[0m\u001b[0;34m\u001b[0m\u001b[0;34m\u001b[0m\u001b[0m\n\u001b[1;32m      5\u001b[0m \u001b[0mTrajectories_aicp_100\u001b[0m\u001b[0;34m,\u001b[0m \u001b[0mType1Error_aicp_100\u001b[0m\u001b[0;34m,\u001b[0m \u001b[0m_\u001b[0m\u001b[0;34m,\u001b[0m \u001b[0m_\u001b[0m\u001b[0;34m,\u001b[0m \u001b[0m_\u001b[0m\u001b[0;34m,\u001b[0m \u001b[0m_\u001b[0m\u001b[0;34m,\u001b[0m \u001b[0m_\u001b[0m \u001b[0;34m=\u001b[0m \u001b[0mcompute_trajectories_aicp\u001b[0m\u001b[0;34m(\u001b[0m\u001b[0mresults_aicp_100\u001b[0m\u001b[0;34m,\u001b[0m \u001b[0mcases\u001b[0m\u001b[0;34m,\u001b[0m \u001b[0;36m50\u001b[0m\u001b[0;34m)\u001b[0m\u001b[0;34m\u001b[0m\u001b[0;34m\u001b[0m\u001b[0m\n",
      "\u001b[0;32m<ipython-input-10-9144bb8a9610>\u001b[0m in \u001b[0;36mload_results\u001b[0;34m(filenames, alg, same_graphs)\u001b[0m\n\u001b[1;32m     37\u001b[0m     \u001b[0;31m# Load results for AICP\u001b[0m\u001b[0;34m\u001b[0m\u001b[0;34m\u001b[0m\u001b[0;34m\u001b[0m\u001b[0m\n\u001b[1;32m     38\u001b[0m     \u001b[0;32melif\u001b[0m \u001b[0malg\u001b[0m \u001b[0;34m==\u001b[0m \u001b[0;34m\"aicp\"\u001b[0m\u001b[0;34m:\u001b[0m\u001b[0;34m\u001b[0m\u001b[0;34m\u001b[0m\u001b[0m\n\u001b[0;32m---> 39\u001b[0;31m         \u001b[0mcases\u001b[0m\u001b[0;34m,\u001b[0m \u001b[0mresults\u001b[0m \u001b[0;34m=\u001b[0m \u001b[0mload_experiments\u001b[0m\u001b[0;34m(\u001b[0m\u001b[0mfilenames\u001b[0m\u001b[0;34m[\u001b[0m\u001b[0;36m0\u001b[0m\u001b[0;34m]\u001b[0m\u001b[0;34m)\u001b[0m\u001b[0;34m\u001b[0m\u001b[0;34m\u001b[0m\u001b[0m\n\u001b[0m\u001b[1;32m     40\u001b[0m         \u001b[0;32mfor\u001b[0m \u001b[0mfilename\u001b[0m \u001b[0;32min\u001b[0m \u001b[0mfilenames\u001b[0m\u001b[0;34m[\u001b[0m\u001b[0;36m1\u001b[0m\u001b[0;34m:\u001b[0m\u001b[0;34m:\u001b[0m\u001b[0;34m]\u001b[0m\u001b[0;34m:\u001b[0m\u001b[0;34m\u001b[0m\u001b[0;34m\u001b[0m\u001b[0m\n\u001b[1;32m     41\u001b[0m             \u001b[0mprint\u001b[0m\u001b[0;34m(\u001b[0m\u001b[0;34m\"Loading %s\"\u001b[0m \u001b[0;34m%\u001b[0m \u001b[0mfilename\u001b[0m\u001b[0;34m)\u001b[0m\u001b[0;34m\u001b[0m\u001b[0;34m\u001b[0m\u001b[0m\n",
      "\u001b[0;32m<ipython-input-10-9144bb8a9610>\u001b[0m in \u001b[0;36mload_experiments\u001b[0;34m(filename)\u001b[0m\n\u001b[1;32m      2\u001b[0m \u001b[0;32mdef\u001b[0m \u001b[0mload_experiments\u001b[0m\u001b[0;34m(\u001b[0m\u001b[0mfilename\u001b[0m\u001b[0;34m)\u001b[0m\u001b[0;34m:\u001b[0m\u001b[0;34m\u001b[0m\u001b[0;34m\u001b[0m\u001b[0m\n\u001b[1;32m      3\u001b[0m     \u001b[0mf\u001b[0m \u001b[0;34m=\u001b[0m \u001b[0mopen\u001b[0m\u001b[0;34m(\u001b[0m\u001b[0mfilename\u001b[0m\u001b[0;34m,\u001b[0m \u001b[0;34m\"rb\"\u001b[0m\u001b[0;34m)\u001b[0m\u001b[0;34m\u001b[0m\u001b[0;34m\u001b[0m\u001b[0m\n\u001b[0;32m----> 4\u001b[0;31m     \u001b[0mresults\u001b[0m \u001b[0;34m=\u001b[0m \u001b[0mpickle\u001b[0m\u001b[0;34m.\u001b[0m\u001b[0mload\u001b[0m\u001b[0;34m(\u001b[0m\u001b[0mf\u001b[0m\u001b[0;34m)\u001b[0m\u001b[0;34m\u001b[0m\u001b[0;34m\u001b[0m\u001b[0m\n\u001b[0m\u001b[1;32m      5\u001b[0m     \u001b[0;32mreturn\u001b[0m \u001b[0mresults\u001b[0m\u001b[0;34m[\u001b[0m\u001b[0;36m0\u001b[0m\u001b[0;34m]\u001b[0m\u001b[0;34m,\u001b[0m \u001b[0mresults\u001b[0m\u001b[0;34m[\u001b[0m\u001b[0;36m1\u001b[0m\u001b[0;34m:\u001b[0m\u001b[0;34m:\u001b[0m\u001b[0;34m]\u001b[0m\u001b[0;34m\u001b[0m\u001b[0;34m\u001b[0m\u001b[0m\n\u001b[1;32m      6\u001b[0m \u001b[0;34m\u001b[0m\u001b[0m\n",
      "\u001b[0;31mModuleNotFoundError\u001b[0m: No module named 'src.sampling'"
     ]
    }
   ],
   "source": [
    "cases, results_aicp_1000 = load_results(filenames_aicp_1000, \"aicp\")\n",
    "Trajectories_aicp_1000, Type1Error_aicp_1000, _, _, _, _, _ = compute_trajectories_aicp(results_aicp_1000, cases, 50)\n",
    "\n",
    "cases, results_aicp_100 = load_results(filenames_aicp_100, \"aicp\")\n",
    "Trajectories_aicp_100, Type1Error_aicp_100, _, _, _, _, _ = compute_trajectories_aicp(results_aicp_100, cases, 50)\n",
    "\n",
    "cases, results_aicp_50 = load_results(filenames_aicp_50, \"aicp\")\n",
    "Trajectories_aicp_50, Type1Error_aicp_50, _, _, _, _, _ = compute_trajectories_aicp(results_aicp_50, cases, 50)"
   ]
  },
  {
   "cell_type": "markdown",
   "metadata": {},
   "source": [
    "### Plot A: Metric distributions vs. intervention number"
   ]
  },
  {
   "cell_type": "code",
   "execution_count": null,
   "metadata": {},
   "outputs": [],
   "source": [
    "def plot_trajectories_dist(Trajectories, axes, color=None):\n",
    "    bplot = axes.boxplot(Trajectories,\n",
    "                         vert=True,  # vertical box alignment\n",
    "                         patch_artist=True,\n",
    "                         medianprops = {'color': 'black'})\n",
    "    if color is not None:\n",
    "        for i,patch in enumerate(bplot['boxes']):\n",
    "            patch.set_facecolor(color)"
   ]
  },
  {
   "cell_type": "code",
   "execution_count": null,
   "metadata": {},
   "outputs": [],
   "source": [
    "gs = gridspec.GridSpec(3, 1, wspace=0.10, hspace=0.15)\n",
    "plt.figure(figsize=(8.5,8.5))\n",
    "\n",
    "plt.subplot(gs[0])\n",
    "ax = plt.gca()\n",
    "plot_trajectories_dist(Trajectories_abcd_1000, ax, color=colorsa[2])\n",
    "plt.subplot(gs[1])\n",
    "ax = plt.gca()\n",
    "plot_trajectories_dist(Trajectories_aicp_1000[\"e + r\"], ax, color=colorsa[1])\n",
    "\n",
    "plt.subplot(gs[2])\n",
    "ax = plt.gca()\n",
    "plot_trajectories_dist(Trajectories_aicp_1000[\"random\"], ax, color=colorsa[0])"
   ]
  },
  {
   "cell_type": "markdown",
   "metadata": {},
   "source": [
    "### Plot B: Metric mean vs. intervention number"
   ]
  },
  {
   "cell_type": "code",
   "execution_count": null,
   "metadata": {},
   "outputs": [],
   "source": [
    "gs = gridspec.GridSpec(1, 3, wspace=0.10, hspace=0.15)\n",
    "plt.figure(figsize=(8.5,2.5))\n",
    "\n",
    "ylim = [0,1]\n",
    "\n",
    "# Plot for 1000 initial samples\n",
    "plt.subplot(gs[0])\n",
    "ax = plt.gca()\n",
    "ax.plot(Trajectories_abcd_1000.mean(axis=0), c=colors[2], label=\"ABCD\", linewidth=1.5)\n",
    "ax.plot(Trajectories_aicp_1000[\"random\"].mean(axis=0), c=colors[0], label=\"AICP w/ random policy\", linewidth=1.5)\n",
    "ax.plot(Trajectories_aicp_1000[\"e + r\"].mean(axis=0), c=colorsa[1], label=\"AICP w/ e + r policy\", linewidth=1.5)\n",
    "ax.plot(Trajectories_aicp_1000[\"markov + e + r\"].mean(axis=0), c=colorsa[3], label=\"AICP w/ markov + e + r policy\", linewidth=1.5)\n",
    "plt.xlabel(\"Intervention number\")\n",
    "plt.ylabel(\"Average Jaccard Simmilarity\")\n",
    "ax.text(0.5,1.04,\"1000 observational datapoints\", transform=ax.transAxes, fontsize=11, ha=\"center\")\n",
    "plt.ylim(ylim)\n",
    "\n",
    "# Plot for 100 initial samples\n",
    "plt.subplot(gs[1])\n",
    "ax = plt.gca()\n",
    "ax.plot(Trajectories_abcd_100.mean(axis=0), c=colors[2], label=\"ABCD\", linewidth=1.5)\n",
    "ax.plot(Trajectories_aicp_100[\"random\"].mean(axis=0), c=colors[0], label=\"AICP w/ random policy\", linewidth=1.5)\n",
    "ax.plot(Trajectories_aicp_100[\"e + r\"].mean(axis=0), c=colors[1], label=\"AICP w/ e + r policy\", linewidth=1.5)\n",
    "ax.plot(Trajectories_aicp_100[\"markov + e + r\"].mean(axis=0), c=colorsa[3], label=\"AICP w/ markov + e + r policy\", linewidth=1.5)\n",
    "plt.xlabel(\"Intervention number\")\n",
    "ax.set_yticklabels([])\n",
    "ax.text(0.5,1.04,\"100 observational datapoints\", transform=ax.transAxes, fontsize=11, ha=\"center\")\n",
    "plt.ylim(ylim)\n",
    "\n",
    "# Plot for 50 initial samples\n",
    "plt.subplot(gs[2])\n",
    "ax = plt.gca()\n",
    "ax.plot(Trajectories_abcd_50.mean(axis=0), c=colors[2], label=\"ABCD\", linewidth=1.5)\n",
    "ax.plot(Trajectories_aicp_50[\"random\"].mean(axis=0), c=colors[0], label=\"AICP w/ random policy\", linewidth=1.5)\n",
    "ax.plot(Trajectories_aicp_50[\"e + r\"].mean(axis=0), c=colors[1], label=\"AICP w/ e + r policy\", linewidth=1.5)\n",
    "ax.plot(Trajectories_aicp_50[\"markov + e + r\"].mean(axis=0), c=colorsa[3], label=\"AICP w/ markov + e + r policy\", linewidth=1.5)\n",
    "plt.xlabel(\"Intervention number\")\n",
    "ax.set_yticklabels([])\n",
    "ax.text(0.5,1.04,\"50 observational datapoints\", transform=ax.transAxes, fontsize=11, ha=\"center\")\n",
    "plt.ylim(ylim)\n",
    "\n",
    "ax.legend(prop=fontP, ncol=5, bbox_to_anchor=(0.6, -.25))\n",
    "\n",
    "plt.savefig(\"figures/abcd_vs_aicp_jaccard.pdf\", bbox_inches='tight')"
   ]
  },
  {
   "cell_type": "markdown",
   "metadata": {},
   "source": [
    "### Plot C: Jaccard simmilarity + Type 1 error"
   ]
  },
  {
   "cell_type": "code",
   "execution_count": null,
   "metadata": {},
   "outputs": [],
   "source": [
    "gs = gridspec.GridSpec(3, 3, wspace=0.10, hspace=0.15)\n",
    "plt.figure(figsize=(8.5,8.5))\n",
    "plot_iter = 21\n",
    "# =========================\n",
    "# == JACCARD SIMMILARITY ==\n",
    "\n",
    "ylim = [0,1]\n",
    "\n",
    "# Plot for 1000 initial samples\n",
    "plt.subplot(gs[0])\n",
    "ax = plt.gca()\n",
    "ax.plot(Trajectories_abcd_1000.mean(axis=0)[0:plot_iter], c=colors[1], label=\"ABCD\", linewidth=1.5)\n",
    "#ax.plot(Trajectories_aicp_1000[\"random\"].mean(axis=0)[0:plot_iter], c=colors[0], label=\"AICP w/ random policy\", linewidth=1.5)\n",
    "ax.plot(Trajectories_aicp_1000[\"e + r\"].mean(axis=0)[0:plot_iter], c=colors[3], label=\"AICP w/ e + r policy\", linewidth=1.5)\n",
    "plt.ylabel(\"Average Jaccard similarity\")\n",
    "ax.text(0.5,1.04,\"1000 observational datapoints\", transform=ax.transAxes, fontsize=11, ha=\"center\")\n",
    "plt.ylim(ylim)\n",
    "\n",
    "# Plot for 100 initial samples\n",
    "plt.subplot(gs[1])\n",
    "ax = plt.gca()\n",
    "ax.plot(Trajectories_abcd_100.mean(axis=0)[0:plot_iter], c=colors[1], label=\"ABCD\", linewidth=1.5)\n",
    "#ax.plot(Trajectories_aicp_100[\"random\"].mean(axis=0)[0:plot_iter], c=colors[0], label=\"AICP w/ random policy\", linewidth=1.5)\n",
    "ax.plot(Trajectories_aicp_100[\"e + r\"].mean(axis=0)[0:plot_iter], c=colors[3], label=\"AICP w/ e + r policy\", linewidth=1.5)\n",
    "ax.set_yticklabels([])\n",
    "ax.text(0.5,1.04,\"100 observational datapoints\", transform=ax.transAxes, fontsize=11, ha=\"center\")\n",
    "plt.ylim(ylim)\n",
    "\n",
    "# Plot for 50 initial samples\n",
    "plt.subplot(gs[2])\n",
    "ax = plt.gca()\n",
    "ax.plot(Trajectories_abcd_50.mean(axis=0)[0:plot_iter], c=colors[1], label=\"ABCD\", linewidth=1.5)\n",
    "#ax.plot(Trajectories_aicp_50[\"random\"].mean(axis=0)[0:plot_iter], c=colors[0], label=\"AICP w/ random policy\", linewidth=1.5)\n",
    "ax.plot(Trajectories_aicp_50[\"e + r\"].mean(axis=0)[0:plot_iter], c=colors[3], label=\"AICP w/ e + r policy\", linewidth=1.5)\n",
    "ax.set_yticklabels([])\n",
    "ax.text(0.5,1.04,\"50 observational datapoints\", transform=ax.transAxes, fontsize=11, ha=\"center\")\n",
    "plt.ylim(ylim)\n",
    "\n",
    "# =======================\n",
    "# == TYPE 1 ERROR RATE ==\n",
    "\n",
    "ylim = [-0.02,0.8]\n",
    "\n",
    "# Plot for 1000 initial samples\n",
    "plt.subplot(gs[3])\n",
    "ax = plt.gca()\n",
    "ax.plot(np.mean(Type1Errors_abcd_1000, axis=0)[0:plot_iter], c=colors[1], label=\"ABCD\", linewidth=1.5)\n",
    "#ax.plot(np.mean(Type1Error_aicp_1000[\"random\"], axis=0)[0:plot_iter], c=colors[0], label=\"AICP w/ random policy\", linewidth=1.5)\n",
    "ax.plot(np.mean(Type1Error_aicp_1000[\"e + r\"], axis=0)[0:plot_iter], c=colors[3], label=\"AICP w/ e + r policy\", linewidth=1.5)\n",
    "plt.xlabel(\"Intervention number\")\n",
    "plt.ylabel(\"Type-1 error rate\")\n",
    "plt.ylim(ylim)\n",
    "ax.plot([0, plot_iter-1], [0.01, 0.01], color = colors[0], linestyle=\"--\", label=\"0.01 level\")\n",
    "\n",
    "# Plot for 100 initial samples\n",
    "plt.subplot(gs[4])\n",
    "ax = plt.gca()\n",
    "ax.plot(np.mean(Type1Errors_abcd_100, axis=0)[0:plot_iter], c=colors[1], label=\"ABCD\", linewidth=1.5)\n",
    "#ax.plot(np.mean(Type1Error_aicp_100[\"random\"], axis=0)[0:plot_iter], c=colors[0], label=\"AICP w/ random policy\", linewidth=1.5)\n",
    "ax.plot(np.mean(Type1Error_aicp_100[\"e + r\"], axis=0)[0:plot_iter], c=colors[3], label=\"AICP w/ e + r policy\", linewidth=1.5)\n",
    "plt.xlabel(\"Intervention number\")\n",
    "ax.set_yticklabels([])\n",
    "plt.ylim(ylim)\n",
    "ax.plot([0, plot_iter-1], [0.01, 0.01], color = colors[0], linestyle=\"--\", label=\"0.01 level\")\n",
    "\n",
    "# Plot for 50 initial samples\n",
    "plt.subplot(gs[5])\n",
    "ax = plt.gca()\n",
    "ax.plot(np.mean(Type1Errors_abcd_50, axis=0)[0:plot_iter], c=colors[1], label=\"ABCD\", linewidth=1.5)\n",
    "#ax.plot(np.mean(Type1Error_aicp_50[\"random\"], axis=0)[0:plot_iter], c=colors[0], label=\"AICP w/ random policy\", linewidth=1.5)\n",
    "ax.plot(np.mean(Type1Error_aicp_50[\"e + r\"], axis=0)[0:plot_iter], c=colors[3], label=\"A-ICP w/ e + r policy\", linewidth=1.5)\n",
    "plt.xlabel(\"Intervention number\")\n",
    "ax.set_yticklabels([])\n",
    "plt.ylim(ylim)\n",
    "ax.plot([0, plot_iter-1], [0.01, 0.01], color = colors[0], linestyle=\"--\", label=\"0.01 level\")\n",
    "ax.legend(prop=fontP, ncol=5, bbox_to_anchor=(0.4, -.25))\n",
    "\n",
    "plt.savefig(\"figures/abcd_vs_aicp_all.pdf\", bbox_inches='tight')"
   ]
  },
  {
   "cell_type": "markdown",
   "metadata": {},
   "source": [
    "### Plot D: Jaccard simmilarity + Type 1 error (for one initial setting)"
   ]
  },
  {
   "cell_type": "code",
   "execution_count": null,
   "metadata": {},
   "outputs": [],
   "source": [
    "gs = gridspec.GridSpec(1, 2, wspace=0.20, hspace=0.15)\n",
    "plt.figure(figsize=(8.5,2))\n",
    "plot_iter = 21\n",
    "level = 0.01\n",
    "# =========================\n",
    "# == JACCARD SIMMILARITY ==\n",
    "\n",
    "ylim = [0,1]\n",
    "\n",
    "mean_abcd = Trajectories_abcd_100.mean(axis=0)[0:plot_iter]\n",
    "mean_aicp = Trajectories_aicp_100[\"e + r\"].mean(axis=0)[0:plot_iter]\n",
    "\n",
    "# Plot for 1000 initial samples\n",
    "plt.subplot(gs[0])\n",
    "ax = plt.gca()\n",
    "ax.plot(mean_abcd, c=colors[1], label=\"ABCD\", linewidth=1.5)\n",
    "ax.plot(mean_aicp, c=colors[3], label=\"AICP w/ e + r policy\", linewidth=1.5)\n",
    "plt.ylabel(\"Average Jaccard similarity\")\n",
    "plt.xlabel(\"Intervention number\")\n",
    "plt.ylim(ylim)\n",
    "\n",
    "# =======================\n",
    "# == TYPE 1 ERROR RATE ==\n",
    "\n",
    "ylim = [-0.02,0.65]\n",
    "\n",
    "# Plot for 1000 initial samples\n",
    "plt.subplot(gs[1])\n",
    "ax = plt.gca()\n",
    "ax.plot(np.mean(Type1Errors_abcd_1000, axis=0)[0:plot_iter], c=colors[1], label=\"ABCD\", linewidth=1.5)\n",
    "ax.plot(np.mean(Type1Error_aicp_1000[\"e + r\"], axis=0)[0:plot_iter], c=colors[3], label=\"A-ICP w/ e + r policy\", linewidth=1.5)\n",
    "ax.plot([0, plot_iter-1], [0.01, 0.01], color = colors[0], linestyle=\"--\", label=\"0.01 level\")\n",
    "plt.xlabel(\"Intervention number\")\n",
    "plt.ylabel(\"Type-1 error rate\")\n",
    "plt.ylim(ylim)\n",
    "ax.legend(prop=fontP, ncol=5, bbox_to_anchor=(0.6, -.27))\n",
    "\n",
    "plt.savefig(\"figures/abcd_vs_aicp.pdf\", bbox_inches='tight')"
   ]
  },
  {
   "cell_type": "markdown",
   "metadata": {},
   "source": [
    "### Plot E: Mean entropy of posterior for ABCD"
   ]
  },
  {
   "cell_type": "code",
   "execution_count": null,
   "metadata": {},
   "outputs": [],
   "source": [
    "gs = gridspec.GridSpec(3, 1, wspace=0.10, hspace=0.15)\n",
    "plt.figure(figsize=(8.5,8.5))\n",
    "\n",
    "# For 1000 initial samples\n",
    "plt.subplot(gs[0])\n",
    "ax = plt.gca()\n",
    "plot_trajectories_dist(Entropies_abcd_1000, ax, color=colorsa[2])\n",
    "mean = Entropies_abcd_1000.mean(axis=0)\n",
    "plt.ylabel(\"Entropy\")\n",
    "ax.text(1.02,0.5,\"1000 obs. datapoints\", transform=ax.transAxes, fontsize=11, va=\"center\", rotation=90)\n",
    "ax.plot(np.arange(1,52), mean, color=\"red\")\n",
    "\n",
    "# For 100 initial samples\n",
    "plt.subplot(gs[1])\n",
    "ax = plt.gca()\n",
    "plot_trajectories_dist(Entropies_abcd_100, ax, color=colorsa[2])\n",
    "mean = Entropies_abcd_100.mean(axis=0)\n",
    "plt.ylabel(\"Entropy\")\n",
    "ax.text(1.02,0.5,\"100 obs. datapoints\", transform=ax.transAxes, fontsize=11, va=\"center\", rotation=90)\n",
    "ax.plot(np.arange(1,52), mean, color=\"red\")\n",
    "\n",
    "# For 50 initial samples\n",
    "plt.subplot(gs[2])\n",
    "ax = plt.gca()\n",
    "plot_trajectories_dist(Entropies_abcd_50, ax, color=colorsa[2])\n",
    "mean = Entropies_abcd_50.mean(axis=0)\n",
    "plt.ylabel(\"Entropy\")\n",
    "ax.text(1.02,0.5,\"50 obs. datapoints\", transform=ax.transAxes, fontsize=11, va=\"center\", rotation=90)\n",
    "plt.xlabel(\"Intervention Number\")\n",
    "ax.plot(np.arange(1,52), mean, color=\"red\")"
   ]
  },
  {
   "cell_type": "code",
   "execution_count": null,
   "metadata": {},
   "outputs": [],
   "source": []
  }
 ],
 "metadata": {
  "kernelspec": {
   "display_name": "Python 3",
   "language": "python",
   "name": "python3"
  },
  "language_info": {
   "codemirror_mode": {
    "name": "ipython",
    "version": 3
   },
   "file_extension": ".py",
   "mimetype": "text/x-python",
   "name": "python",
   "nbconvert_exporter": "python",
   "pygments_lexer": "ipython3",
   "version": "3.7.3"
  }
 },
 "nbformat": 4,
 "nbformat_minor": 2
}
