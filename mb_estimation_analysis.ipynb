{
 "cells": [
  {
   "cell_type": "markdown",
   "metadata": {},
   "source": [
    "## Markov Blanket Estimation: Error Analysis"
   ]
  },
  {
   "cell_type": "code",
   "execution_count": 1,
   "metadata": {},
   "outputs": [],
   "source": [
    "import numpy as np\n",
    "import matplotlib\n",
    "import matplotlib.pyplot as plt\n",
    "from matplotlib import gridspec\n",
    "import scipy\n",
    "from src import evaluation, policy, utils\n",
    "import multiprocessing\n",
    "import os"
   ]
  },
  {
   "cell_type": "code",
   "execution_count": 2,
   "metadata": {},
   "outputs": [],
   "source": [
    "# Set tex formatting for plots\n",
    "from matplotlib import rc\n",
    "rc('font',**{'family':'serif','sans-serif':['Computer Modern Roman']})\n",
    "rc('text', usetex=True)\n",
    "#plt.rcParams[\"font.family\"] = \"serif\"\n",
    "#plt.rcParams[\"font.serif\"] = [\"Computer Modern Roman\"]\n",
    "\n",
    "# Set legend size\n",
    "from matplotlib.font_manager import FontProperties\n",
    "fontP = FontProperties()\n",
    "fontP.set_size('medium')"
   ]
  },
  {
   "cell_type": "code",
   "execution_count": 3,
   "metadata": {},
   "outputs": [
    {
     "data": {
      "text/plain": [
       "<matplotlib.collections.PathCollection at 0x7f502bea55f8>"
      ]
     },
     "execution_count": 3,
     "metadata": {},
     "output_type": "execute_result"
    },
    {
     "data": {
      "image/png": "[encoded data removed]",
      "text/plain": [
       "<Figure size 432x288 with 1 Axes>"
      ]
     },
     "metadata": {
      "needs_background": "light"
     },
     "output_type": "display_data"
    }
   ],
   "source": [
    "# Colors\n",
    "def to_rgb(H, b=1, a=1):\n",
    "    RGBa = []\n",
    "    for h in H:\n",
    "        h = h.lstrip(\"#\")\n",
    "        RGBa.append(tuple(int(h[i:i+2], 16) / 256 * b for i in (0, 2, 4)) + (a,))\n",
    "    return np.array(RGBa)\n",
    "\n",
    "cmap = matplotlib.cm.get_cmap('tab20')\n",
    "base = [\"#ff4365\", \"#ffdd43\", \"#59ff43\", \"#43ffdd\", \"#4365ff\", \"#e943ff\", \"#601e9e\", \"#6a6a6a\"]#np.array([cmap(i) for i in range(2,20)])\n",
    "plt.scatter(np.arange(len(base)), np.ones(len(base)), c = base)\n",
    "#base = [base[i] for i in [0,1,3]]\n",
    "colors = to_rgb(base)\n",
    "colorsa = to_rgb(base, a=0.5)\n",
    "colorsb = to_rgb(base, b=0.7)\n",
    "plt.scatter(np.arange(len(colors)), np.zeros(len(colors)), c = colors)\n",
    "plt.scatter(np.arange(len(colors)), np.ones(len(colors))*0.5, c = colorsa)\n",
    "plt.scatter(np.arange(len(colors)), np.ones(len(colors))*-0.5, c = colorsb)"
   ]
  },
  {
   "cell_type": "markdown",
   "metadata": {},
   "source": [
    "### Generate test cases"
   ]
  },
  {
   "cell_type": "code",
   "execution_count": 4,
   "metadata": {},
   "outputs": [
    {
     "name": "stdout",
     "output_type": "stream",
     "text": [
      "Generated 1000 SCMs\n"
     ]
    }
   ],
   "source": [
    "G = 1000\n",
    "cases = evaluation.gen_cases(G,\n",
    "                             P = 12,\n",
    "                             k = 3,\n",
    "                             w_min = 0.5,\n",
    "                             w_max = 1,\n",
    "                             var_min = 0,\n",
    "                             var_max = 1,\n",
    "                             int_min = 0,\n",
    "                             int_max = 1,\n",
    "                             random_state = 0)\n",
    "print(\"Generated %d SCMs\" % len(cases))"
   ]
  },
  {
   "cell_type": "code",
   "execution_count": 5,
   "metadata": {},
   "outputs": [
    {
     "name": "stdout",
     "output_type": "stream",
     "text": [
      "1000 graphs in total\n"
     ]
    },
    {
     "data": {
      "image/png": "[encoded data removed]",
      "text/plain": [
       "<Figure size 576x216 with 2 Axes>"
      ]
     },
     "metadata": {
      "needs_background": "light"
     },
     "output_type": "display_data"
    }
   ],
   "source": [
    "n_parents = np.zeros(G)\n",
    "n_vars = np.zeros(G)\n",
    "size_mb = np.zeros(G)\n",
    "for i, case in enumerate(cases):\n",
    "    n_parents[i] = len(case.truth)\n",
    "    n_vars[i] = case.sem.p\n",
    "    mb = utils.graph_info(case.target, case.sem.W)[3]\n",
    "    size_mb[i] = len(mb)\n",
    "\n",
    "def plot_hist(data, title):\n",
    "    bins = np.arange(data.min(), data.max()+2)-0.5\n",
    "    hist = plt.hist(data, bins, rwidth=0.5, align='mid', color=\"#BABABA\")#colorsb[2])\n",
    "    plt.xlabel(title)\n",
    "    \n",
    "plt.figure(figsize=(8,3))\n",
    "#plt.subplot(131), plot_hist(n_vars, \"Number of variables\")\n",
    "plt.subplot(121), plot_hist(n_parents, \"Number of parents\"), plt.ylabel(\"Number of graphs\")\n",
    "plt.subplot(122), plot_hist(size_mb, \"Size of the Markov blanket\")\n",
    "print(\"%d graphs in total\" % G)\n",
    "\n",
    "max_parents, min_parents = int(n_parents.max()), int(n_parents.min())"
   ]
  },
  {
   "cell_type": "markdown",
   "metadata": {},
   "source": [
    "### Compute estimates for different sample sizes"
   ]
  },
  {
   "cell_type": "code",
   "execution_count": null,
   "metadata": {},
   "outputs": [
    {
     "name": "stdout",
     "output_type": "stream",
     "text": [
      "Evaluation with 3 workers\n"
     ]
    }
   ],
   "source": [
    "%%time\n",
    "\n",
    "N = [10,20,50,100,500,1000]\n",
    "\n",
    "estimates = {}\n",
    "\n",
    "# Computation\n",
    "\n",
    "def comp_estimates(n):\n",
    "    estimates = []\n",
    "    #print(\"\", end=\"\\r\")\n",
    "    for i,case in enumerate(cases):\n",
    "        #print(\"n=%d Case %d/%d\" % (n, i, G), end=\"\\r\") if i % 10 == 0 else None\n",
    "        sample = case.sem.sample(n)\n",
    "        estimate = set(policy.markov_blanket(sample, case.target, debug=False))\n",
    "        estimates.append(estimate)\n",
    "    return estimates\n",
    "\n",
    "n_workers = os.cpu_count() - 1\n",
    "print(\"Evaluation with %d workers\" % n_workers)\n",
    "pool = multiprocessing.Pool(n_workers)\n",
    "\n",
    "estimates_by_n = pool.map(comp_estimates, N)\n",
    "print(\"Done\")"
   ]
  },
  {
   "cell_type": "code",
   "execution_count": null,
   "metadata": {},
   "outputs": [],
   "source": [
    "len(estimates_by_n[0])"
   ]
  },
  {
   "cell_type": "markdown",
   "metadata": {},
   "source": [
    "### Analysis"
   ]
  },
  {
   "cell_type": "code",
   "execution_count": null,
   "metadata": {},
   "outputs": [],
   "source": [
    "def estimate_size(estimates_by_n):\n",
    "    results_by_n = []\n",
    "    for estimates in estimates_by_n:\n",
    "        result = np.array(list(map(lambda estimate: len(estimate), estimates))).mean()\n",
    "        results_by_n.append(result)\n",
    "    return results_by_n\n",
    "\n",
    "def proportion_superset(estimates_by_n):\n",
    "    results_by_n = []\n",
    "    for estimates in estimates_by_n:\n",
    "        results = []\n",
    "        for i, estimate in enumerate(estimates):\n",
    "            true_mb = utils.graph_info(cases[i].target, cases[i].sem.W)[3]\n",
    "            results.append(set.issuperset(estimate, true_mb))\n",
    "        results_by_n.append(np.mean(results))\n",
    "    return results_by_n\n",
    "\n",
    "def contains_parents(estimates_by_n, parent_size=None):\n",
    "    results_by_n = []\n",
    "    for estimates in estimates_by_n:\n",
    "        results = []\n",
    "        for i,estimate in enumerate(estimates):\n",
    "            if len(cases[i].truth) == parent_size or parent_size is None:\n",
    "                results.append(set.issuperset(estimate, cases[i].truth))        \n",
    "        results_by_n.append(np.mean(results))\n",
    "    return results_by_n\n",
    "\n",
    "def estimate_size_when_contains_parents(estimates_by_n, parent_size=None):\n",
    "    results_by_n = []\n",
    "    for estimates in estimates_by_n:\n",
    "        results = []\n",
    "        for i,estimate in enumerate(estimates):\n",
    "            if len(cases[i].truth) == parent_size or parent_size is None:\n",
    "                if set.issuperset(estimate, cases[i].truth):\n",
    "                    results.append(len(estimate))\n",
    "        results_by_n.append(np.mean(results))\n",
    "    return results_by_n"
   ]
  },
  {
   "cell_type": "code",
   "execution_count": null,
   "metadata": {},
   "outputs": [],
   "source": [
    "gs = gridspec.GridSpec(2, 2, wspace=0.15, hspace=0.4)\n",
    "plt.figure(figsize=(7,7))\n",
    "\n",
    "# Proportion of estimates which are superset\n",
    "plt.subplot(gs[0])\n",
    "ax = plt.gca()\n",
    "ax.plot(np.log10(N), proportion_superset(estimates_by_n), marker=\"o\", color=colors[7])\n",
    "ax.set_xticks(np.log10(N))\n",
    "ax.set_xticklabels(N)\n",
    "ax.text(0.5,1.04,\"Proportion of estimates\\nwhich contain Markov Blanket\", transform=ax.transAxes, fontsize=11, ha=\"center\")\n",
    "plt.xlabel(\"Sample size\")\n",
    "\n",
    "# Average size of estimate\n",
    "plt.subplot(gs[1])\n",
    "ax = plt.gca()\n",
    "ax.plot(np.log10(N), estimate_size(estimates_by_n), marker=\"o\", color=colors[7])\n",
    "ax.set_xticks(np.log10(N))\n",
    "ax.set_xticklabels(N)\n",
    "ax.text(0.5,1.04,\"Average size of estimate\", transform=ax.transAxes, fontsize=11, ha=\"center\")\n",
    "plt.xlabel(\"Sample size\")\n",
    "\n",
    "# Proportion of estimates which are superset\n",
    "plt.subplot(gs[2])\n",
    "ax = plt.gca()\n",
    "for p in range(max_parents):\n",
    "    if p == 0:\n",
    "        ax.plot(np.log10(N), contains_parents(estimates_by_n), marker=\"o\", label=\"All\", color=colors[7])\n",
    "    else:\n",
    "        ax.plot(np.log10(N), contains_parents(estimates_by_n, p), marker=\"o\", label=\"when %d parents\" % p, color=colors[p], linestyle=\"--\")\n",
    "ax.set_xticks(np.log10(N))\n",
    "ax.set_xticklabels(N)\n",
    "ax.text(0.5,1.04,\"Proportion of estimates\\nwhich contain all parents\", transform=ax.transAxes, fontsize=11, ha=\"center\")\n",
    "plt.xlabel(\"Sample size\")\n",
    "plt.legend()\n",
    "\n",
    "# Average size of estimate when it contains parents\n",
    "plt.subplot(gs[3])\n",
    "ax = plt.gca()\n",
    "for p in range(max_parents):\n",
    "    if p == 0:\n",
    "        ax.plot(np.log10(N), estimate_size_when_contains_parents(estimates_by_n), marker=\"o\", label=\"All\", color=colors[7])\n",
    "    else:\n",
    "        ax.plot(np.log10(N), estimate_size_when_contains_parents(estimates_by_n, p), marker=\"o\", label=\"when %d parents\" % p, color=colors[p], linestyle=\"--\")\n",
    "ax.set_xticks(np.log10(N))\n",
    "ax.set_xticklabels(N)\n",
    "ax.text(0.5,1.04,\"Average size of estimate\\nwhen it contains all parents\", transform=ax.transAxes, fontsize=11, ha=\"center\")\n",
    "plt.xlabel(\"Sample size\")\n",
    "plt.savefig(\"figures/mb_estimation.pdf\", bbox_inches='tight')"
   ]
  },
  {
   "cell_type": "code",
   "execution_count": null,
   "metadata": {},
   "outputs": [],
   "source": []
  }
 ],
 "metadata": {
  "kernelspec": {
   "display_name": "Python 3",
   "language": "python",
   "name": "python3"
  },
  "language_info": {
   "codemirror_mode": {
    "name": "ipython",
    "version": 3
   },
   "file_extension": ".py",
   "mimetype": "text/x-python",
   "name": "python",
   "nbconvert_exporter": "python",
   "pygments_lexer": "ipython3",
   "version": "3.7.3"
  }
 },
 "nbformat": 4,
 "nbformat_minor": 2
}
