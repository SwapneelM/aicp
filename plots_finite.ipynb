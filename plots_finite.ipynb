{
 "cells": [
  {
   "cell_type": "markdown",
   "metadata": {},
   "source": [
    "## Plots for experiments in finite regime"
   ]
  },
  {
   "cell_type": "code",
   "execution_count": 1,
   "metadata": {},
   "outputs": [],
   "source": [
    "import numpy as np\n",
    "import matplotlib\n",
    "import matplotlib.pyplot as plt\n",
    "from matplotlib import gridspec\n",
    "from matplotlib.lines import Line2D\n",
    "import scipy\n",
    "from src import utils\n",
    "import copy\n",
    "import pickle"
   ]
  },
  {
   "cell_type": "markdown",
   "metadata": {},
   "source": [
    "### Plotting setup"
   ]
  },
  {
   "cell_type": "code",
   "execution_count": 2,
   "metadata": {},
   "outputs": [
    {
     "data": {
      "text/plain": [
       "<matplotlib.collections.PathCollection at 0x7f781b7d2f60>"
      ]
     },
     "execution_count": 2,
     "metadata": {},
     "output_type": "execute_result"
    },
    {
     "data": {
      "image/png": "[encoded data removed]",
      "text/plain": [
       "<Figure size 432x288 with 1 Axes>"
      ]
     },
     "metadata": {
      "needs_background": "light"
     },
     "output_type": "display_data"
    }
   ],
   "source": [
    "# Set tex formatting for plots\n",
    "from matplotlib import rc\n",
    "rc('font',**{'family':'serif','sans-serif':['Computer Modern Roman']})\n",
    "rc('text', usetex=True)\n",
    "#plt.rcParams[\"font.family\"] = \"serif\"\n",
    "#plt.rcParams[\"font.serif\"] = [\"Computer Modern Roman\"]\n",
    "\n",
    "# Set legend size\n",
    "from matplotlib.font_manager import FontProperties\n",
    "fontP = FontProperties()\n",
    "fontP.set_size('medium')\n",
    "\n",
    "# Colors\n",
    "def to_rgb(H, b=1, a=1):\n",
    "    RGBa = []\n",
    "    for h in H:\n",
    "        h = h.lstrip(\"#\")\n",
    "        RGBa.append(tuple(int(h[i:i+2], 16) / 256 * b for i in (0, 2, 4)) + (a,))\n",
    "    return np.array(RGBa)\n",
    "\n",
    "cmap = matplotlib.cm.get_cmap('tab20')\n",
    "base = [\"#ff4365\", \"#ffdd43\", \"#59ff43\", \"#43ffdd\", \"#4365ff\", \"#e943ff\", \"#601e9e\", \"#6a6a6a\"]#np.array([cmap(i) for i in range(2,20)])\n",
    "plt.scatter(np.arange(len(base)), np.ones(len(base)), c = base)\n",
    "#base = [base[i] for i in [0,1,3]]\n",
    "colors = to_rgb(base)\n",
    "colorsa = to_rgb(base, a=0.5)\n",
    "colorsb = to_rgb(base, b=0.7)\n",
    "plt.scatter(np.arange(len(colors)), np.zeros(len(colors)), c = colors)\n",
    "plt.scatter(np.arange(len(colors)), np.ones(len(colors))*0.5, c = colorsa)\n",
    "plt.scatter(np.arange(len(colors)), np.ones(len(colors))*-0.5, c = colorsb)"
   ]
  },
  {
   "cell_type": "markdown",
   "metadata": {},
   "source": [
    "### Load and process data"
   ]
  },
  {
   "cell_type": "code",
   "execution_count": 3,
   "metadata": {},
   "outputs": [],
   "source": [
    "def jaccard_sim(A,B):\n",
    "    A = set(A) if type(A) is not set else A\n",
    "    B = set(B) if type(B) is not set else B\n",
    "    return len(A & B) / len(A | B)"
   ]
  },
  {
   "cell_type": "code",
   "execution_count": 4,
   "metadata": {},
   "outputs": [],
   "source": [
    "# Code to load (and possibly merge) results from several files, as experiments can be submitted to Euler in different jobs to reduce time\n",
    "\n",
    "def load_experiments(filename):\n",
    "    f = open(filename, \"rb\")\n",
    "    results = pickle.load(f)\n",
    "    return results[0], results[1::]\n",
    "\n",
    "def merge_runs(old, new, min_merge=False):\n",
    "    if len(old) == len(new) or (len(old) < len(new) and min_merge):\n",
    "        for i in range(len(old)):\n",
    "            old[i] += new[i].copy()\n",
    "    else:\n",
    "        raise Exception(\"Cannot merge\")\n",
    "    return old\n",
    "\n",
    "def load_results(filenames):\n",
    "    cases, results = load_experiments(filenames[0])\n",
    "    for filename in filenames[1::]:\n",
    "        print(\"Loading %s\" % filename)\n",
    "        new_cases, new_results = load_experiments(filename)\n",
    "        cases += new_cases\n",
    "        for k in range(len(results)):\n",
    "            results[k] = merge_runs(results[k], new_results[k])\n",
    "    print(\"\\nLoaded a total of %d graphs with %d runs each\" % (len(results[0][0]), len(results[0])))\n",
    "    return cases, results"
   ]
  },
  {
   "cell_type": "code",
   "execution_count": 5,
   "metadata": {},
   "outputs": [],
   "source": [
    "def generate_trajectories(results, cases):\n",
    "    runs = len(results[0])\n",
    "    N = len(results[0][0])\n",
    "    P = len(results)\n",
    "\n",
    "\n",
    "    no_ints = np.zeros((len(results), runs, N))\n",
    "    all_trajectories = {}\n",
    "    all_type1_errors = {}\n",
    "    names = []\n",
    "    for k, policy_runs in enumerate(results):\n",
    "        name = policy_runs[0][0].policy\n",
    "        print(\"Processing results for %s policy\" % name, end=\"\")\n",
    "        names.append(name)\n",
    "        trajectories = []\n",
    "        type1_errors = []\n",
    "        for i,run_results in enumerate(policy_runs):\n",
    "            no_ints[k, i,:] = list(map(lambda result: len(result.interventions()), run_results))\n",
    "            for j, result in enumerate(run_results):\n",
    "                estimates = result.estimates() + [result.estimate]\n",
    "                trajectory = list(map(lambda estimate: jaccard_sim(cases[j].truth, estimate), estimates))\n",
    "                type1_error = list(map(lambda estimate: set.issubset(estimate, cases[j].truth), estimates))\n",
    "                trajectories.append(trajectory)\n",
    "                type1_errors.append(type1_error)\n",
    "        all_trajectories[name] = trajectories\n",
    "        all_type1_errors[name] = type1_errors\n",
    "        print(\" done\")\n",
    "    return all_trajectories, all_type1_errors, N, P, runs, names, no_ints"
   ]
  },
  {
   "cell_type": "code",
   "execution_count": 6,
   "metadata": {},
   "outputs": [],
   "source": [
    "# Experiments to load\n",
    "\n",
    "experiments = [\n",
    "[\"experiments/results_1587961452_k:3.0_G:500_runs:8_n_min:12_n_max:12_w_min:0.5_w_max:1.0_var_min:0.0_var_max:1.0_int_min:0.0_int_max:1.0_i_mean:10_i_var:1_random_state:0_finite:True_max_iter:50_n:10_alpha:0.0005_tag:apr25sl.pickle\"],\n",
    "[\"experiments/results_1587881500_k:3.0_G:500_runs:8_n_min:12_n_max:12_w_min:0.5_w_max:1.0_var_min:0.0_var_max:1.0_int_min:0.0_int_max:1.0_i_mean:10_i_var:1_random_state:0_finite:True_max_iter:50_n:100_alpha:0.0005_tag:apr25sl.pickle\"],\n",
    "[\"experiments/results_1587913432_k:3.0_G:500_runs:8_n_min:12_n_max:12_w_min:0.5_w_max:1.0_var_min:0.0_var_max:1.0_int_min:0.0_int_max:1.0_i_mean:10_i_var:1_random_state:0_finite:True_max_iter:50_n:1000_alpha:0.0005_tag:apr25sl.pickle\"],\n",
    "[\"experiments/results_1587936821_k:3.0_G:500_runs:8_n_min:12_n_max:12_w_min:0.5_w_max:1.0_var_min:0.0_var_max:1.0_int_min:0.0_int_max:1.0_i_mean:10_i_var:1_random_state:0_finite:True_max_iter:50_n:10_alpha:0.0025_tag:apr25sm.pickle\"],\n",
    "[\"experiments/results_1587872472_k:3.0_G:500_runs:8_n_min:12_n_max:12_w_min:0.5_w_max:1.0_var_min:0.0_var_max:1.0_int_min:0.0_int_max:1.0_i_mean:10_i_var:1_random_state:0_finite:True_max_iter:50_n:100_alpha:0.0025_tag:apr25sm.pickle\"],\n",
    "[\"experiments/results_1587908944_k:3.0_G:500_runs:8_n_min:12_n_max:12_w_min:0.5_w_max:1.0_var_min:0.0_var_max:1.0_int_min:0.0_int_max:1.0_i_mean:10_i_var:1_random_state:0_finite:True_max_iter:50_n:1000_alpha:0.0025_tag:apr25sm.pickle\"],\n",
    "[\"experiments/results_1587931361_k:3.0_G:500_runs:8_n_min:12_n_max:12_w_min:0.5_w_max:1.0_var_min:0.0_var_max:1.0_int_min:0.0_int_max:1.0_i_mean:10_i_var:1_random_state:0_finite:True_max_iter:50_n:10_alpha:0.005_tag:apr25sh.pickle\"],\n",
    "[\"experiments/results_1587874267_k:3.0_G:500_runs:8_n_min:12_n_max:12_w_min:0.5_w_max:1.0_var_min:0.0_var_max:1.0_int_min:0.0_int_max:1.0_i_mean:10_i_var:1_random_state:0_finite:True_max_iter:50_n:100_alpha:0.005_tag:apr25sh.pickle\"],\n",
    "[\"experiments/results_1588089424_k:3.0_G:500_runs:8_n_min:12_n_max:12_w_min:0.5_w_max:1.0_var_min:0.0_var_max:1.0_int_min:0.0_int_max:1.0_i_mean:10_i_var:1_random_state:0_finite:True_max_iter:50_n:1000_alpha:0.005_tag:apr25sh.pickle\"],\n",
    "]"
   ]
  },
  {
   "cell_type": "code",
   "execution_count": 7,
   "metadata": {},
   "outputs": [],
   "source": [
    "def process_experiments(experiments):\n",
    "    Trajectories = []\n",
    "    Type1Errors = []\n",
    "    NoInts = []\n",
    "\n",
    "    for i,filenames in enumerate(experiments):\n",
    "        print(\"\\n\\n %d/%d\" % (i+1, len(experiments)), end=\" \")\n",
    "        cases, results = load_results(filenames)\n",
    "        trajectories, type1_errors, N, P, runs, names, no_ints = generate_trajectories(results, cases)\n",
    "        if i==0:\n",
    "            prev_N, prev_P, prev_runs = N, P, runs\n",
    "        elif prev_N != N or prev_P != P or prev_runs != runs:\n",
    "            print(N, P, runs)\n",
    "            print(prev_N, prev_P, prev_runs)\n",
    "            print(\"Experiments have different number of graphs / policies / runs\")\n",
    "        Trajectories.append(trajectories)\n",
    "        Type1Errors.append(type1_errors)\n",
    "        NoInts.append(no_ints)\n",
    "    return Trajectories, Type1Errors, NoInts, N, P, runs, names, cases"
   ]
  },
  {
   "cell_type": "code",
   "execution_count": 8,
   "metadata": {
    "scrolled": false
   },
   "outputs": [
    {
     "name": "stdout",
     "output_type": "stream",
     "text": [
      "\n",
      "\n",
      " 1/9 \n",
      "Loaded a total of 500 graphs with 8 runs each\n",
      "Processing results for random policy done\n",
      "Processing results for e policy done\n",
      "Processing results for r policy done\n",
      "Processing results for e + r policy done\n",
      "Processing results for markov policy done\n",
      "Processing results for markov + e policy done\n",
      "Processing results for markov + r policy done\n",
      "Processing results for markov + e + r policy done\n",
      "\n",
      "\n",
      " 2/9 \n",
      "Loaded a total of 500 graphs with 8 runs each\n",
      "Processing results for random policy done\n",
      "Processing results for e policy done\n",
      "Processing results for r policy done\n",
      "Processing results for e + r policy done\n",
      "Processing results for markov policy done\n",
      "Processing results for markov + e policy done\n",
      "Processing results for markov + r policy done\n",
      "Processing results for markov + e + r policy done\n",
      "\n",
      "\n",
      " 3/9 \n",
      "Loaded a total of 500 graphs with 8 runs each\n",
      "Processing results for random policy done\n",
      "Processing results for e policy done\n",
      "Processing results for r policy done\n",
      "Processing results for e + r policy done\n",
      "Processing results for markov policy done\n",
      "Processing results for markov + e policy done\n",
      "Processing results for markov + r policy done\n",
      "Processing results for markov + e + r policy done\n",
      "\n",
      "\n",
      " 4/9 \n",
      "Loaded a total of 500 graphs with 8 runs each\n",
      "Processing results for random policy done\n",
      "Processing results for e policy done\n",
      "Processing results for r policy done\n",
      "Processing results for e + r policy done\n",
      "Processing results for markov policy done\n",
      "Processing results for markov + e policy done\n",
      "Processing results for markov + r policy done\n",
      "Processing results for markov + e + r policy done\n",
      "\n",
      "\n",
      " 5/9 \n",
      "Loaded a total of 500 graphs with 8 runs each\n",
      "Processing results for random policy done\n",
      "Processing results for e policy done\n",
      "Processing results for r policy done\n",
      "Processing results for e + r policy done\n",
      "Processing results for markov policy done\n",
      "Processing results for markov + e policy done\n",
      "Processing results for markov + r policy done\n",
      "Processing results for markov + e + r policy done\n",
      "\n",
      "\n",
      " 6/9 \n",
      "Loaded a total of 500 graphs with 8 runs each\n",
      "Processing results for random policy done\n",
      "Processing results for e policy done\n",
      "Processing results for r policy done\n",
      "Processing results for e + r policy done\n",
      "Processing results for markov policy done\n",
      "Processing results for markov + e policy done\n",
      "Processing results for markov + r policy done\n",
      "Processing results for markov + e + r policy done\n",
      "\n",
      "\n",
      " 7/9 \n",
      "Loaded a total of 500 graphs with 8 runs each\n",
      "Processing results for random policy done\n",
      "Processing results for e policy done\n",
      "Processing results for r policy done\n",
      "Processing results for e + r policy done\n",
      "Processing results for markov policy done\n",
      "Processing results for markov + e policy done\n",
      "Processing results for markov + r policy done\n",
      "Processing results for markov + e + r policy done\n",
      "\n",
      "\n",
      " 8/9 \n",
      "Loaded a total of 500 graphs with 8 runs each\n",
      "Processing results for random policy done\n",
      "Processing results for e policy done\n",
      "Processing results for r policy done\n",
      "Processing results for e + r policy done\n",
      "Processing results for markov policy done\n",
      "Processing results for markov + e policy done\n",
      "Processing results for markov + r policy done\n",
      "Processing results for markov + e + r policy done\n",
      "\n",
      "\n",
      " 9/9 \n",
      "Loaded a total of 500 graphs with 8 runs each\n",
      "Processing results for random policy done\n",
      "Processing results for e policy done\n",
      "Processing results for r policy done\n",
      "Processing results for e + r policy done\n",
      "Processing results for markov policy done\n",
      "Processing results for markov + e policy done\n",
      "Processing results for markov + r policy done\n",
      "Processing results for markov + e + r policy done\n"
     ]
    }
   ],
   "source": [
    "Trajectories, Type1Errors, NoInts, N, P, runs, names, cases = process_experiments(experiments)"
   ]
  },
  {
   "cell_type": "markdown",
   "metadata": {},
   "source": [
    "**Summary of graphs used**"
   ]
  },
  {
   "cell_type": "code",
   "execution_count": 9,
   "metadata": {},
   "outputs": [
    {
     "name": "stdout",
     "output_type": "stream",
     "text": [
      "500 graphs in total\n"
     ]
    },
    {
     "data": {
      "image/png": "[encoded data removed]",
      "text/plain": [
       "<Figure size 1080x216 with 5 Axes>"
      ]
     },
     "metadata": {
      "needs_background": "light"
     },
     "output_type": "display_data"
    }
   ],
   "source": [
    "n_parents = np.zeros(N)\n",
    "n_children = np.zeros(N)\n",
    "n_poc = np.zeros(N)\n",
    "n_upstream = np.zeros(N)\n",
    "size_mb = np.zeros(N)\n",
    "for i, case in enumerate(cases):\n",
    "    parents, children, poc, mb = utils.graph_info(case.target, case.sem.W)\n",
    "    ancestors = utils.ancestors(case.target, case.sem.W)\n",
    "    n_parents[i] = len(parents)\n",
    "    n_children[i] = len(children)\n",
    "    n_poc[i] = len(poc)\n",
    "    n_upstream[i] = len(ancestors)\n",
    "    size_mb[i] = len(mb)\n",
    "\n",
    "def plot_hist(data, title):\n",
    "    bins = np.arange(data.min(), data.max()+2)-0.5\n",
    "    hist = plt.hist(data, bins, rwidth=0.5, align='mid', color=\"#BABABA\")#colorsb[2])\n",
    "    plt.xlabel(title)\n",
    "    \n",
    "plt.figure(figsize=(15,3))\n",
    "#plt.subplot(131), plot_hist(n_vars, \"Number of variables\")\n",
    "plt.subplot(151), plot_hist(n_parents, \"Number of parents\"), plt.ylabel(\"Number of graphs\")\n",
    "plt.subplot(152), plot_hist(n_children, \"Number of children\")\n",
    "plt.subplot(153), plot_hist(n_poc, \"Number of parents of children\")\n",
    "plt.subplot(154), plot_hist(size_mb, \"Size of the Markov blanket\")\n",
    "plt.subplot(155), plot_hist(n_upstream, \"Number of upstream variables\")\n",
    "ax = plt.gca()\n",
    "ax.set_xticks(range(12))\n",
    "\n",
    "print(\"%d graphs in total\" % N)"
   ]
  },
  {
   "cell_type": "code",
   "execution_count": 10,
   "metadata": {},
   "outputs": [],
   "source": [
    "max_iter = 50"
   ]
  },
  {
   "cell_type": "markdown",
   "metadata": {},
   "source": [
    "### Plot B: Comparing effects of sample size"
   ]
  },
  {
   "cell_type": "code",
   "execution_count": 11,
   "metadata": {},
   "outputs": [
    {
     "data": {
      "image/png": "[encoded data removed]",
      "text/plain": [
       "<Figure size 612x180 with 3 Axes>"
      ]
     },
     "metadata": {
      "needs_background": "light"
     },
     "output_type": "display_data"
    }
   ],
   "source": [
    "# Plot settings\n",
    "gs = gridspec.GridSpec(1, 3, wspace=0.10, hspace=0.2)\n",
    "plt.figure(figsize=(8.5,2.5))\n",
    "\n",
    "plot_iter = 20\n",
    "x_axis = np.arange(0, plot_iter)\n",
    "ylim = [-0.05, 1]\n",
    "linestyle = ['-', '--', '--', '--', ':', ':', ':', ':']\n",
    "zorder = [1,4,2,3,-1,-2,-3,-4]\n",
    "\n",
    "##############################\n",
    "# Plot trajectories for n=10\n",
    "jac_sim10 = np.ones((P, N*runs, max_iter+1))\n",
    "for i, trajectories in enumerate(Trajectories[0].values()):\n",
    "    for j, trajectory in enumerate(trajectories):\n",
    "        jac_sim10[i, j, 0:len(trajectory)] = trajectory\n",
    "mean10 = np.mean(jac_sim10[:, :, :], axis=1)\n",
    "\n",
    "plt.subplot(gs[0])\n",
    "ax = plt.gca()\n",
    "zorder = [1,4,2,3,-1,-2,-3,-4]\n",
    "for i,name in enumerate(names):\n",
    "    ax.plot(x_axis, mean10[i,x_axis], label=name, linewidth=1.5, linestyle = linestyle[i], color=colors[i], zorder=zorder[i])\n",
    "plt.xlabel(\"Intervention number\")\n",
    "plt.ylabel(\"Avg. Jaccard similarity\")\n",
    "ax.set_xticks(np.arange(0, plot_iter+1, 5))\n",
    "ax.text(0.5,1.04,\"10 obs./sample\", transform=ax.transAxes, fontsize=11, ha=\"center\")\n",
    "plt.ylim(ylim)\n",
    "\n",
    "##############################\n",
    "# Plot trajectories for n=100\n",
    "jac_sim100 = np.ones((P, N*runs, max_iter+1))\n",
    "for i, (name, trajectories) in enumerate(Trajectories[1].items()):\n",
    "    for j, trajectory in enumerate(trajectories):\n",
    "        jac_sim100[i, j, 0:len(trajectory)] = trajectory\n",
    "mean100 = np.mean(jac_sim100[:, :, :], axis=1)\n",
    "plt.subplot(gs[1])\n",
    "ax = plt.gca()\n",
    "for i,name in enumerate(names):\n",
    "    ax.plot(x_axis, mean100[i,x_axis], label=name, linewidth=1.5, linestyle = linestyle[i], color=colors[i], zorder=zorder[i])\n",
    "plt.xlabel(\"Intervention number\")\n",
    "ax.set_yticklabels([])\n",
    "ax.set_xticks(np.arange(0, plot_iter+1, 5))\n",
    "ax.text(0.5,1.04,\"100 obs./sample\", transform=ax.transAxes, fontsize=11, ha=\"center\")\n",
    "plt.ylim(ylim)\n",
    "\n",
    "##############################\n",
    "# Plot trajectories for n=1000\n",
    "jac_sim1000 = np.ones((P, N*runs, max_iter+1))\n",
    "for i, (name, trajectories) in enumerate(Trajectories[2].items()):\n",
    "    for j, trajectory in enumerate(trajectories):\n",
    "        jac_sim1000[i, j, 0:len(trajectory)] = trajectory\n",
    "mean1000 = np.mean(jac_sim1000[:, :, :], axis=1)\n",
    "\n",
    "plt.subplot(gs[2])\n",
    "ax = plt.gca()\n",
    "for i,name in enumerate(names):\n",
    "    ax.plot(x_axis, mean1000[i,x_axis], label=name, linewidth=1.5, linestyle = linestyle[i], color=colors[i], zorder=zorder[i])\n",
    "plt.xlabel(\"Intervention number\")\n",
    "ax.set_yticklabels([])\n",
    "ax.set_xticks(np.arange(0, plot_iter+1, 5))\n",
    "ax.text(0.5,1.04,\"1000 obs./sample\", transform=ax.transAxes, fontsize=11, ha=\"center\")\n",
    "plt.ylim(ylim)\n",
    "\n",
    "ax.legend(prop=fontP, ncol=5, bbox_to_anchor=(0.9, -.22))\n",
    "plt.savefig('figures/jac_sim_finite.pdf', bbox_inches='tight')"
   ]
  },
  {
   "cell_type": "markdown",
   "metadata": {},
   "source": [
    "### Plot C: Sensitivity analysis\n",
    "\n",
    "For the next two plots (sensitivity and type-1 error) the levels on the plot have to be adjusted manually, to correspond to the `alpha` parameter from the experiments which were loaded."
   ]
  },
  {
   "cell_type": "code",
   "execution_count": 12,
   "metadata": {},
   "outputs": [],
   "source": [
    "levels = [0.025, 0.125, 0.25]"
   ]
  },
  {
   "cell_type": "code",
   "execution_count": null,
   "metadata": {},
   "outputs": [
    {
     "name": "stdout",
     "output_type": "stream",
     "text": [
      "Plotting 9/9\r"
     ]
    }
   ],
   "source": [
    "# Plot settings\n",
    "gs = gridspec.GridSpec(3, 3, wspace=0.10, hspace=0.15)\n",
    "plt.figure(figsize=(8.5,8.5))\n",
    "\n",
    "plot_iter = 20\n",
    "x_axis = np.arange(0, plot_iter)\n",
    "ylim = [-0.05, 1.1]\n",
    "linestyle = ['-', '--', '--', '--', ':', ':', ':', ':']\n",
    "zorder = [1,4,2,3,-1,-2,-3,-4]\n",
    "\n",
    "plots = zip([Trajectories[i] for i in [0,3,6,1,4,7,2,5,8]],\n",
    "            levels * 3,\n",
    "            [10] * 3 + [100] * 3 + [1000] * 3)\n",
    "\n",
    "##############################\n",
    "# Plot trajectories for n=10\n",
    "for i, (all_trajectories, level, sample_size) in enumerate(plots):\n",
    "    plt.subplot(gs[i])\n",
    "    ax = plt.gca()\n",
    "    print(\"Plotting %d/%d\" % (i+1, len(Trajectories)), end=\"\\r\")\n",
    "    jac_sim = np.ones((P, N*runs, max_iter+1))\n",
    "    for j, policy_trajectories in enumerate(all_trajectories.values()):\n",
    "        for k, trajectory in enumerate(policy_trajectories):\n",
    "            n = min(plot_iter, len(trajectory))\n",
    "            jac_sim[j, k, 0:n] = trajectory[0:n]\n",
    "    mean = np.mean(jac_sim, axis=1)\n",
    "    # Plot TPR for each policy\n",
    "    for j,name in enumerate(names):\n",
    "        ax.plot(x_axis, mean[j,x_axis], label=name, linewidth=1.5, linestyle = linestyle[j], color=colors[j], zorder=zorder[j])    \n",
    "    # Labels / legend\n",
    "    if i < 3:\n",
    "        ax.text(0.5,1.05,\"level=%s\" % level, transform=ax.transAxes, fontsize=11, ha=\"center\")\n",
    "    if i % 3 == 2:\n",
    "        ax.text(1.05,0.5,\"%d obs./sample\" % sample_size, transform=ax.transAxes, fontsize=11, va=\"center\", rotation=90)\n",
    "    ax.set_yticklabels([]) if i % 3 != 0 else None\n",
    "    plt.ylim(ylim)\n",
    "    plt.ylabel(\"Avg. Jaccard similarity\") if i % 3 == 0 else None\n",
    "    plt.xlabel(\"Intervention number\") if i >= 6 else None\n",
    "ax.legend(prop=fontP, ncol=5, bbox_to_anchor=(1, -.25))\n",
    "plt.savefig('figures/sensitivity.pdf', bbox_inches='tight')"
   ]
  },
  {
   "cell_type": "markdown",
   "metadata": {},
   "source": [
    "### Plot D: Type-1 error rate"
   ]
  },
  {
   "cell_type": "code",
   "execution_count": null,
   "metadata": {},
   "outputs": [],
   "source": [
    "# Plot settings\n",
    "gs = gridspec.GridSpec(3, 3, wspace=0.10, hspace=0.15)\n",
    "plt.figure(figsize=(8.5,8.5))\n",
    "\n",
    "plot_iter = 20\n",
    "x_axis = np.arange(0, plot_iter)\n",
    "linestyle = ['-', '--', '--', '--', ':', ':', ':', ':']\n",
    "zorder = [1,4,2,3,-1,-2,-3,-4]\n",
    "\n",
    "plots = zip([Type1Errors[i] for i in [0,3,6,1,4,7,2,5,8]],\n",
    "            levels * 3,\n",
    "            [10] * 3 + [100] * 3 + [1000] * 3)\n",
    "\n",
    "##############################\n",
    "# Plot trajectories for n=10\n",
    "for i, (all_error_trajectories, level, sample_size) in enumerate(plots):\n",
    "    plt.subplot(gs[i])\n",
    "    ax = plt.gca()\n",
    "    print(\"Plotting %d/%d\" % (i+1, len(Type1Errors)), end=\"\\r\")\n",
    "    errors = np.ones((P, N*runs, max_iter+1))\n",
    "    for j, policy_trajectories in enumerate(all_error_trajectories.values()):\n",
    "        for k, trajectory in enumerate(policy_trajectories):\n",
    "            n = min(plot_iter, len(trajectory))\n",
    "            errors[j, k, 0:n] = trajectory[0:n]\n",
    "    mean = np.mean(1 - errors, axis=1)\n",
    "    # Plot TPR for each policy\n",
    "    for j,name in enumerate(names):\n",
    "        ax.plot(x_axis, mean[j,x_axis], label=name, linewidth=1.5, linestyle = linestyle[j], color=colors[j], zorder=zorder[j])    \n",
    "    # Labels / legend\n",
    "    if i < 3:\n",
    "        ax.text(0.5,1.05,\"level=%s\" % level, transform=ax.transAxes, fontsize=11, ha=\"center\")\n",
    "    if i % 3 == 2:\n",
    "        ax.text(1.05,0.5,\"%d obs./sample\" % sample_size, transform=ax.transAxes, fontsize=11, va=\"center\", rotation=90)\n",
    "    ax.set_yticklabels([]) if i % 3 != 0 else None\n",
    "    plt.ylim([0, 0.01])\n",
    "    plt.ylabel(\"Type 1 error rate\") if i % 3 == 0 else None\n",
    "    plt.xlabel(\"Intervention number\") if i >= 6 else None\n",
    "ax.legend(prop=fontP, ncol=5, bbox_to_anchor=(1, -.25))\n",
    "plt.savefig('figures/type1error.pdf', bbox_inches='tight')"
   ]
  },
  {
   "cell_type": "markdown",
   "metadata": {},
   "source": [
    "## For 50 iterations"
   ]
  },
  {
   "cell_type": "markdown",
   "metadata": {},
   "source": [
    "### Plots E: Number of interventions required for 50 iterations"
   ]
  },
  {
   "cell_type": "code",
   "execution_count": null,
   "metadata": {},
   "outputs": [],
   "source": [
    "# Plotting parameters\n",
    "\n",
    "gs = gridspec.GridSpec(3, 1, wspace=0.10, hspace=0.3)\n",
    "plt.figure(figsize=(8.5,7))\n",
    "dev = 0.35\n",
    "xaxis = np.tile(np.arange(P), (N, 1)) - np.outer(np.linspace(-dev, dev, N), np.ones(P))\n",
    "ecolor = \"#cdcdcd\"\n",
    "markers = [\".\", \"$2$\", \"^\", \"s\", \"p\", \"H\"]\n",
    "\n",
    "#-----------------------------------\n",
    "# Function for individual (n=x) plot\n",
    "\n",
    "def point_plot(NoInts, ax, parents = None):\n",
    "    # Plotting\n",
    "    means = NoInts.mean(axis=1)\n",
    "    no_parents = np.array(list(map(lambda case: len(case.truth), cases)))\n",
    "    parents = range(no_parents.min(), no_parents.max() + 1) if parents is None else parents\n",
    "    for p in parents:\n",
    "        idx = idx = np.where(no_parents == p)[0]\n",
    "        # Plot lines first\n",
    "        for i in idx:            \n",
    "            plt.plot(xaxis[i,:], means[:, i].T, color=ecolor, zorder=0, linewidth=0.5)\n",
    "        # Plot dots\n",
    "        for i in idx:\n",
    "            plt.scatter(xaxis[i,:], means[:, i].T, marker=markers[p-1], c=colors[0:P], zorder=1, edgecolors=colorsb)\n",
    "    \n",
    "    # Set labels \n",
    "    plt.ylabel(\"Avg. no. of interventions\")\n",
    "    ax.set_xticks([0,1,1.95,2.9,3.85,4.85,5.9,7.05])\n",
    "    total_averages = means.mean(axis=1)\n",
    "    labels = []\n",
    "    for i, avg in enumerate(total_averages):\n",
    "        labels.append(names[i] + \"\\n(%0.2f)\" % avg)\n",
    "    ax.set_xticklabels(labels, ha=\"center\", rotation=0)\n",
    "    \n",
    "\n",
    "#---------------------------\n",
    "# Compose all plots together\n",
    "\n",
    "NoIntsAux = copy.deepcopy(NoInts)\n",
    "for no_ints in NoIntsAux:\n",
    "    no_ints[no_ints > max_iter] = max_iter\n",
    "\n",
    "parents = None\n",
    "\n",
    "# n=10\n",
    "plt.subplot(gs[0])\n",
    "ax = plt.gca()\n",
    "point_plot(NoIntsAux[0], ax, parents)\n",
    "ax.set_yticks([0, 10, 20, 30, 40, 50])\n",
    "plt.ylim(-5, 55)\n",
    "ax.text(0.01,0.027,\"10 obs./sample\", transform=ax.transAxes, fontsize=10, ha=\"left\")\n",
    "\n",
    "# n=100\n",
    "plt.subplot(gs[1])\n",
    "ax = plt.gca()\n",
    "point_plot(NoIntsAux[1], ax, parents)\n",
    "ax.set_yticks([0, 10, 20, 30, 40, 50])\n",
    "plt.ylim(-5, 55)\n",
    "ax.text(0.01,0.027,\"100 obs./sample\", transform=ax.transAxes, fontsize=10, ha=\"left\")\n",
    "\n",
    "# n=1000\n",
    "plt.subplot(gs[2])\n",
    "ax = plt.gca()\n",
    "point_plot(NoIntsAux[2], ax, parents)\n",
    "ax.set_yticks([0, 10, 20, 30, 40, 50])\n",
    "plt.ylim(-5, 55)\n",
    "ax.text(0.01,0.027,\"1000 obs./sample\", transform=ax.transAxes, fontsize=10, ha=\"left\")\n",
    "\n",
    "# Build legend\n",
    "legend_elements = []\n",
    "for i,m in enumerate(markers):\n",
    "    legend_elements.append(Line2D([0],[0],\n",
    "                                  marker=m,\n",
    "                                  color=[0,0,0,0],\n",
    "                                  label= '%d parent' % (i+1) + ('s' if i > 0 else ''),\n",
    "                                  markerfacecolor=colorsa[7],\n",
    "                                  markeredgecolor=colors[7],\n",
    "                                  markersize=7))\n",
    "ax.legend(handles=legend_elements,prop=fontP, ncol=6, bbox_to_anchor=(1.03, -0.25))\n",
    "\n",
    "# Save figure\n",
    "plt.savefig('figures/intervention_numbers_finite_50_iter.pdf', bbox_inches='tight')"
   ]
  },
  {
   "cell_type": "markdown",
   "metadata": {},
   "source": [
    "### Plot F: Comparing effects of sample size for 50 iterations"
   ]
  },
  {
   "cell_type": "code",
   "execution_count": null,
   "metadata": {},
   "outputs": [],
   "source": [
    "# Plot settings\n",
    "gs = gridspec.GridSpec(1, 3, wspace=0.10, hspace=0.2)\n",
    "plt.figure(figsize=(8.5,2.5))\n",
    "\n",
    "plot_iter = 50\n",
    "x_axis = np.arange(0, plot_iter)\n",
    "ylim = [-0.05, 1.1]\n",
    "linestyle = ['-', '--', '--', '--', ':', ':', ':', ':']\n",
    "zorder = [1,4,2,3,-1,-2,-3,-4]\n",
    "\n",
    "##############################\n",
    "# Plot trajectories for n=10\n",
    "jac_sim10 = np.ones((P, N*runs, max_iter+1))\n",
    "for i, trajectories in enumerate(Trajectories[0].values()):\n",
    "    for j, trajectory in enumerate(trajectories):\n",
    "        jac_sim10[i, j, 0:len(trajectory)] = trajectory\n",
    "mean10 = np.mean(jac_sim10[:, :, :], axis=1)\n",
    "\n",
    "plt.subplot(gs[0])\n",
    "ax = plt.gca()\n",
    "zorder = [1,4,2,3,-1,-2,-3,-4]\n",
    "for i,name in enumerate(names):\n",
    "    ax.plot(x_axis, mean10[i,x_axis], label=name, linewidth=1.5, linestyle = linestyle[i], color=colors[i], zorder=zorder[i])\n",
    "plt.xlabel(\"Intervention number\")\n",
    "plt.ylabel(\"Average Jaccard similarity\")\n",
    "ax.set_xticks(np.arange(0, plot_iter+1, 10))\n",
    "ax.text(0.5,1.04,\"10 obs./sample\", transform=ax.transAxes, fontsize=11, ha=\"center\")\n",
    "plt.ylim(ylim)\n",
    "\n",
    "##############################\n",
    "# Plot trajectories for n=100\n",
    "jac_sim100 = np.ones((P, N*runs, max_iter+1))\n",
    "for i, (name, trajectories) in enumerate(Trajectories[1].items()):\n",
    "    for j, trajectory in enumerate(trajectories):\n",
    "        jac_sim100[i, j, 0:len(trajectory)] = trajectory\n",
    "mean100 = np.mean(jac_sim100[:, :, :], axis=1)\n",
    "plt.subplot(gs[1])\n",
    "ax = plt.gca()\n",
    "for i,name in enumerate(names):\n",
    "    ax.plot(x_axis, mean100[i,x_axis], label=name, linewidth=1.5, linestyle = linestyle[i], color=colors[i], zorder=zorder[i])\n",
    "plt.xlabel(\"Intervention number\")\n",
    "ax.set_yticklabels([])\n",
    "ax.set_xticks(np.arange(0, plot_iter+1, 10))\n",
    "ax.text(0.5,1.04,\"100 obs./sample\", transform=ax.transAxes, fontsize=11, ha=\"center\")\n",
    "plt.ylim(ylim)\n",
    "\n",
    "##############################\n",
    "# Plot trajectories for n=1000\n",
    "jac_sim1000 = np.ones((P, N*runs, max_iter+1))\n",
    "for i, (name, trajectories) in enumerate(Trajectories[2].items()):\n",
    "    for j, trajectory in enumerate(trajectories):\n",
    "        jac_sim1000[i, j, 0:len(trajectory)] = trajectory\n",
    "mean1000 = np.mean(jac_sim1000[:, :, :], axis=1)\n",
    "\n",
    "plt.subplot(gs[2])\n",
    "ax = plt.gca()\n",
    "for i,name in enumerate(names):\n",
    "    ax.plot(x_axis, mean1000[i,x_axis], label=name, linewidth=1.5, linestyle = linestyle[i], color=colors[i], zorder=zorder[i])\n",
    "plt.xlabel(\"Intervention number\")\n",
    "ax.set_yticklabels([])\n",
    "ax.set_xticks(np.arange(0, plot_iter+1, 10))\n",
    "ax.text(0.5,1.04,\"1000 obs./sample\", transform=ax.transAxes, fontsize=11, ha=\"center\")\n",
    "plt.ylim(ylim)\n",
    "\n",
    "ax.legend(prop=fontP, ncol=5, bbox_to_anchor=(0.9, -.22))\n",
    "plt.savefig('figures/jac_finite_50_iter.pdf', bbox_inches='tight')"
   ]
  },
  {
   "cell_type": "code",
   "execution_count": null,
   "metadata": {},
   "outputs": [],
   "source": []
  },
  {
   "cell_type": "code",
   "execution_count": null,
   "metadata": {},
   "outputs": [],
   "source": []
  }
 ],
 "metadata": {
  "kernelspec": {
   "display_name": "Python 3",
   "language": "python",
   "name": "python3"
  },
  "language_info": {
   "codemirror_mode": {
    "name": "ipython",
    "version": 3
   },
   "file_extension": ".py",
   "mimetype": "text/x-python",
   "name": "python",
   "nbconvert_exporter": "python",
   "pygments_lexer": "ipython3",
   "version": "3.7.3"
  }
 },
 "nbformat": 4,
 "nbformat_minor": 2
}
