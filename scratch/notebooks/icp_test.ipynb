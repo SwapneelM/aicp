{
 "cells": [
  {
   "cell_type": "markdown",
   "metadata": {},
   "source": [
    "### Example of when greedily selecting most uncertain variable fails\n",
    "\n",
    "A possible policy for intervention selection would be to pick the variable of whose causal effect we are most uncertain (given by the confidence interval). This notebook contains an example when this might fail.\n",
    "\n",
    "The SEM is picked on purpose so that the effect of $X_0$ on $Y$ cancels out. If the first intervention is done on $X_1$, the most uncertain variable becomes $X_0$; however, intervening on it provides no new information.\n",
    "\n",
    "What is even worse, a purely greedy strategy (that picks with replacement) would be forever stuck."
   ]
  },
  {
   "cell_type": "code",
   "execution_count": 1,
   "metadata": {},
   "outputs": [
    {
     "name": "stderr",
     "output_type": "stream",
     "text": [
      "Loading required package: glmnet\n",
      "Loading required package: Matrix\n",
      "Loading required package: foreach\n",
      "Loaded glmnet 2.0-18\n",
      "\n",
      "Loading required package: mboost\n",
      "Loading required package: parallel\n",
      "Loading required package: stabs\n",
      "This is mboost 2.9-1. See ‘package?mboost’ and ‘news(package  = \"mboost\")’\n",
      "for a complete list of changes.\n",
      "\n"
     ]
    }
   ],
   "source": [
    "library(InvariantCausalPrediction)"
   ]
  },
  {
   "cell_type": "code",
   "execution_count": 2,
   "metadata": {},
   "outputs": [],
   "source": [
    "n <- 100000"
   ]
  },
  {
   "cell_type": "code",
   "execution_count": 3,
   "metadata": {},
   "outputs": [],
   "source": [
    "# SEM (observational)\n",
    "eps0 <- rnorm(n,0,1)\n",
    "eps1 <- rnorm(n,0,1)\n",
    "eps2 <- rnorm(n,0,1)\n",
    "eps3 <- rnorm(n,0,1)\n",
    "eps4 <- rnorm(n,0,1)\n",
    "\n",
    "X0 <- eps0\n",
    "X1 <- -X0 + eps1\n",
    "X2 <- X0 + eps2\n",
    "X3 <- X1 + X2 + eps3\n",
    "X4 <- X3 + eps4\n",
    "\n",
    "obs_data = cbind(X0, X1, X2, X4)\n",
    "obs_target = X3"
   ]
  },
  {
   "cell_type": "code",
   "execution_count": 4,
   "metadata": {},
   "outputs": [],
   "source": [
    "# SEM (intervened on X0)\n",
    "eps0 <- rnorm(n,5,1)\n",
    "eps1 <- rnorm(n,0,1)\n",
    "eps2 <- rnorm(n,0,1)\n",
    "eps3 <- rnorm(n,0,1)\n",
    "eps4 <- rnorm(n,0,1)\n",
    "\n",
    "X0 <- eps0\n",
    "X1 <- -X0 + eps1\n",
    "X2 <- X0 + eps2\n",
    "X3 <- X1 + X2 + eps3\n",
    "X4 <- X3 + eps4\n",
    "\n",
    "e0_data = cbind(X0, X1, X2, X4)\n",
    "e0_target = X3"
   ]
  },
  {
   "cell_type": "code",
   "execution_count": 5,
   "metadata": {},
   "outputs": [],
   "source": [
    "# SEM (intervened on X1)\n",
    "eps0 <- rnorm(n,0,1)\n",
    "eps1 <- rnorm(n,5,1)\n",
    "eps2 <- rnorm(n,0,1)\n",
    "eps3 <- rnorm(n,0,1)\n",
    "eps4 <- rnorm(n,0,1)\n",
    "\n",
    "X0 <- eps0\n",
    "X1 <- eps1\n",
    "X2 <- X0 + eps2\n",
    "X3 <- X1 + X2 + eps3\n",
    "X4 <- X3 + eps4\n",
    "\n",
    "e1_data = cbind(X0, X1, X2, X4)\n",
    "e1_target = X3"
   ]
  },
  {
   "cell_type": "code",
   "execution_count": 6,
   "metadata": {},
   "outputs": [],
   "source": [
    "# SEM (intervened on X2)\n",
    "eps0 <- rnorm(n,0,1)\n",
    "eps1 <- rnorm(n,0,1)\n",
    "eps2 <- rnorm(n,5,1)\n",
    "eps3 <- rnorm(n,0,1)\n",
    "eps4 <- rnorm(n,0,1)\n",
    "\n",
    "X0 <- eps0\n",
    "X1 <- -X0 + eps1\n",
    "X2 <- eps2\n",
    "X3 <- X1 + X2 + eps3\n",
    "X4 <- X3 + eps4\n",
    "\n",
    "e2_data = cbind(X0, X1, X2, X4)\n",
    "e2_target = X3"
   ]
  },
  {
   "cell_type": "code",
   "execution_count": 7,
   "metadata": {},
   "outputs": [],
   "source": [
    "# SEM (intervened on X4)\n",
    "eps0 <- rnorm(n,0,1)\n",
    "eps1 <- rnorm(n,0,1)\n",
    "eps2 <- rnorm(n,0,1)\n",
    "eps3 <- rnorm(n,0,1)\n",
    "eps4 <- rnorm(n,5,1)\n",
    "\n",
    "X0 <- eps0\n",
    "X1 <- -X0 + eps1\n",
    "X2 <- X0 + eps2\n",
    "X3 <- X1 + X2 + eps3\n",
    "X4 <- eps4\n",
    "\n",
    "e4_data = cbind(X0, X1, X2, X4)\n",
    "e4_target = X3"
   ]
  },
  {
   "cell_type": "markdown",
   "metadata": {},
   "source": [
    "**Run ICP**"
   ]
  },
  {
   "cell_type": "code",
   "execution_count": 16,
   "metadata": {},
   "outputs": [
    {
     "name": "stdout",
     "output_type": "stream",
     "text": [
      "\n",
      " *** 12% complete: tested 2 of 16 sets of variables \n",
      " accepted set of variables 2,3\n",
      " accepted set of variables 1,2,3\n",
      " accepted set of variables 2,3,4\n",
      " accepted set of variables 1,2,3,4"
     ]
    },
    {
     "data": {
      "text/plain": [
       "\n",
       " Invariant Linear Causal Regression at level 0.01 (including multiplicity correction for the number of variables)\n",
       " Variables: X1, X2 show a significant causal effect\n",
       " \n",
       "     LOWER BOUND  UPPER BOUND  MAXIMIN EFFECT  P-VALUE    \n",
       "X0        -0.01         0.00            0.00        1    \n",
       "X1         0.50         1.00            0.50   <1e-09 ***\n",
       "X2         0.50         1.00            0.50   <1e-09 ***\n",
       "X4         0.00         0.50            0.00        1    \n",
       "---\n",
       "Signif. codes:  0 ‘***’ 0.001 ‘**’ 0.01 ‘*’ 0.05 ‘.’ 0.1 ‘ ’ 1\n",
       "\n"
      ]
     },
     "metadata": {},
     "output_type": "display_data"
    }
   ],
   "source": [
    "data = rbind(obs_data, e1_data, e2_data)#, e4_data)\n",
    "targets = c(obs_target, e1_target, e2_target)#, e4_target)\n",
    "idx = rep(0:2, each=n)\n",
    "\n",
    "ICP(data, targets, idx, alpha=0.01, test = \"normal\", selection = \"all\")"
   ]
  },
  {
   "cell_type": "code",
   "execution_count": null,
   "metadata": {},
   "outputs": [],
   "source": []
  }
 ],
 "metadata": {
  "kernelspec": {
   "display_name": "R",
   "language": "R",
   "name": "ir"
  },
  "language_info": {
   "codemirror_mode": "r",
   "file_extension": ".r",
   "mimetype": "text/x-r-source",
   "name": "R",
   "pygments_lexer": "r",
   "version": "3.6.1"
  }
 },
 "nbformat": 4,
 "nbformat_minor": 2
}
